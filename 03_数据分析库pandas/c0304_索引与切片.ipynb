{
 "cells": [
  {
   "cell_type": "markdown",
   "metadata": {},
   "source": [
    "Series和Datafram索引的原理一样，我们以Dataframe的索引为主来学习\n",
    "* 列索引：df['列名']  （Series不存在列索引）\n",
    "* 行索引：df.loc[]、df.iloc[]\n",
    "\n",
    "选择列 / 选择行 / 切片 / 布尔判断"
   ]
  },
  {
   "cell_type": "code",
   "execution_count": 1,
   "metadata": {
    "collapsed": true
   },
   "outputs": [],
   "source": [
    "import numpy as np\n",
    "import pandas as pd  \n",
    "# 导入numpy、pandas模块"
   ]
  },
  {
   "cell_type": "code",
   "execution_count": 2,
   "metadata": {},
   "outputs": [
    {
     "name": "stdout",
     "output_type": "stream",
     "text": [
      "               a          b          c          d\n",
      "one    86.579717  78.010284  60.867002  27.788596\n",
      "two    45.502045  24.392854  84.195350  25.950909\n",
      "three  72.943622  96.537273  86.591489  93.434591\n",
      "one      86.579717\n",
      "two      45.502045\n",
      "three    72.943622\n",
      "Name: a, dtype: float64 <class 'pandas.core.series.Series'>\n",
      "               a          c\n",
      "one    86.579717  60.867002\n",
      "two    45.502045  84.195350\n",
      "three  72.943622  86.591489 <class 'pandas.core.frame.DataFrame'>\n",
      "-----\n",
      "a    86.579717\n",
      "b    78.010284\n",
      "c    60.867002\n",
      "d    27.788596\n",
      "Name: one, dtype: float64 <class 'pandas.core.series.Series'>\n",
      "             a          b          c          d\n",
      "one  86.579717  78.010284  60.867002  27.788596\n",
      "two  45.502045  24.392854  84.195350  25.950909 <class 'pandas.core.frame.DataFrame'>\n"
     ]
    }
   ],
   "source": [
    "# 选择行与列\n",
    "\n",
    "df = pd.DataFrame(np.random.rand(12).reshape(3,4)*100,\n",
    "                   index = ['one','two','three'],\n",
    "                   columns = ['a','b','c','d'])\n",
    "print(df)\n",
    "\n",
    "data1 = df['a']\n",
    "data2 = df[['a','c']]\n",
    "print(data1,type(data1))\n",
    "print(data2,type(data2))\n",
    "print('-----')\n",
    "# 按照列名选择列，只选择一列输出Series，选择多列输出Dataframe\n",
    "\n",
    "data3 = df.loc['one']\n",
    "data4 = df.loc[['one','two']]\n",
    "print(data3,type(data3))\n",
    "print(data4,type(data4))\n",
    "# 按照index选择行，只选择一行输出Series，选择多行输出Dataframe"
   ]
  },
  {
   "cell_type": "code",
   "execution_count": 3,
   "metadata": {},
   "outputs": [
    {
     "name": "stdout",
     "output_type": "stream",
     "text": [
      "               a          b          c          d\n",
      "one     6.057210  15.924831  90.943586   4.016382\n",
      "two    78.919514  36.720695  15.239731  42.097075\n",
      "three   2.023157   6.994121  27.321257  23.484499\n",
      "-----\n",
      "one       6.057210\n",
      "two      78.919514\n",
      "three     2.023157\n",
      "Name: a, dtype: float64\n",
      "               b          c\n",
      "one    15.924831  90.943586\n",
      "two    36.720695  15.239731\n",
      "three   6.994121  27.321257\n"
     ]
    }
   ],
   "source": [
    "# df[] - 选择列\n",
    "# 一般用于选择列，也可以选择行，但不推荐，行索引用.loc与.iloc\n",
    "\n",
    "df = pd.DataFrame(np.random.rand(12).reshape(3,4)*100,\n",
    "                   index = ['one','two','three'],\n",
    "                   columns = ['a','b','c','d'])\n",
    "print(df)\n",
    "print('-----')\n",
    "\n",
    "data1 = df['a']\n",
    "data2 = df[['b','c']]  # 尝试输入 data2 = df[['b','c','e']]\n",
    "print(data1)\n",
    "print(data2)\n",
    "# df[]默认选择列，[]中写列名（所以一般数据colunms都会单独制定，不会用默认数字列名，以免和index冲突）\n",
    "# 单选列为Series，print结果为Series格式\n",
    "# 多选列为Dataframe，print结果为Dataframe格式\n",
    "\n",
    "# 核心笔记：df[col]一般用于选择列，[]中写列名"
   ]
  },
  {
   "cell_type": "code",
   "execution_count": 4,
   "metadata": {},
   "outputs": [
    {
     "name": "stdout",
     "output_type": "stream",
     "text": [
      "               a          b          c          d\n",
      "one    87.858817  77.731802  53.510753  65.449511\n",
      "two    92.468495  21.138422  75.783051  35.178955\n",
      "three  76.020660  28.452576  49.352479  97.688749\n",
      "four   86.315750  51.421533  71.503408  36.298579\n",
      "           a          b          c          d\n",
      "0  81.812066   6.797858  63.588397  79.618509\n",
      "1  52.503099  93.146407   0.867074  49.693558\n",
      "2  36.387844  47.433088  13.003926  61.693756\n",
      "3   0.692093  61.703987  46.487926  26.876570\n",
      "-----\n",
      "a    87.858817\n",
      "b    77.731802\n",
      "c    53.510753\n",
      "d    65.449511\n",
      "Name: one, dtype: float64\n",
      "a    52.503099\n",
      "b    93.146407\n",
      "c     0.867074\n",
      "d    49.693558\n",
      "Name: 1, dtype: float64\n",
      "单标签索引\n",
      "-----\n"
     ]
    }
   ],
   "source": [
    "# df.loc[] - 按index选择行\n",
    "\n",
    "df1 = pd.DataFrame(np.random.rand(16).reshape(4,4)*100,\n",
    "                   index = ['one','two','three','four'],\n",
    "                   columns = ['a','b','c','d'])\n",
    "df2 = pd.DataFrame(np.random.rand(16).reshape(4,4)*100,\n",
    "                   columns = ['a','b','c','d'])\n",
    "print(df1)\n",
    "print(df2)\n",
    "print('-----')\n",
    "\n",
    "data1 = df1.loc['one']\n",
    "data2 = df2.loc[1]\n",
    "print(data1)\n",
    "print(data2)\n",
    "print('单标签索引\\n-----')\n",
    "# 单个标签索引，返回Series"
   ]
  },
  {
   "cell_type": "code",
   "execution_count": 5,
   "metadata": {},
   "outputs": [
    {
     "name": "stdout",
     "output_type": "stream",
     "text": [
      "               a          b          c          d\n",
      "two    92.468495  21.138422  75.783051  35.178955\n",
      "three  76.020660  28.452576  49.352479  97.688749\n",
      "five         NaN        NaN        NaN        NaN\n",
      "           a          b          c          d\n",
      "3   0.692093  61.703987  46.487926  26.876570\n",
      "2  36.387844  47.433088  13.003926  61.693756\n",
      "1  52.503099  93.146407   0.867074  49.693558\n",
      "多标签索引\n",
      "-----\n",
      "               a          b          c          d\n",
      "one    87.858817  77.731802  53.510753  65.449511\n",
      "two    92.468495  21.138422  75.783051  35.178955\n",
      "three  76.020660  28.452576  49.352479  97.688749\n",
      "           a          b          c          d\n",
      "1  52.503099  93.146407   0.867074  49.693558\n",
      "2  36.387844  47.433088  13.003926  61.693756\n",
      "3   0.692093  61.703987  46.487926  26.876570\n",
      "切片索引\n"
     ]
    }
   ],
   "source": [
    "data3 = df1.loc[['two','three','five']]\n",
    "data4 = df2.loc[[3,2,1]]\n",
    "print(data3)\n",
    "print(data4)\n",
    "print('多标签索引\\n-----')\n",
    "# 多个标签索引，如果标签不存在，则返回NaN\n",
    "# 顺序可变\n",
    "# 这里‘five’标签不存在，所以有警告\n",
    "\n",
    "data5 = df1.loc['one':'three']\n",
    "data6 = df2.loc[1:3]\n",
    "print(data5)\n",
    "print(data6)\n",
    "print('切片索引')\n",
    "# 可以做切片对象\n",
    "# 末端包含\n",
    "\n",
    "# 核心笔记：df.loc[label]主要针对index选择行，同时支持指定index，及默认数字index"
   ]
  },
  {
   "cell_type": "code",
   "execution_count": 6,
   "metadata": {},
   "outputs": [
    {
     "name": "stdout",
     "output_type": "stream",
     "text": [
      "               a          b          c          d\n",
      "one    30.676836  97.286689  45.620494  82.664063\n",
      "two    97.002117  49.579344  71.068086  73.551154\n",
      "three  17.172331  43.764939  31.679046  39.423973\n",
      "four   83.434489  86.070309  27.172874  90.553437\n",
      "------\n",
      "a    30.676836\n",
      "b    97.286689\n",
      "c    45.620494\n",
      "d    82.664063\n",
      "Name: one, dtype: float64\n",
      "a    83.434489\n",
      "b    86.070309\n",
      "c    27.172874\n",
      "d    90.553437\n",
      "Name: four, dtype: float64\n",
      "单位置索引\n",
      "-----\n",
      "               a          b          c          d\n",
      "one    30.676836  97.286689  45.620494  82.664063\n",
      "three  17.172331  43.764939  31.679046  39.423973\n",
      "               a          b          c          d\n",
      "four   83.434489  86.070309  27.172874  90.553437\n",
      "three  17.172331  43.764939  31.679046  39.423973\n",
      "two    97.002117  49.579344  71.068086  73.551154\n",
      "多位置索引\n",
      "-----\n",
      "               a          b          c          d\n",
      "two    97.002117  49.579344  71.068086  73.551154\n",
      "three  17.172331  43.764939  31.679046  39.423973\n",
      "               a          b          c          d\n",
      "one    30.676836  97.286689  45.620494  82.664063\n",
      "three  17.172331  43.764939  31.679046  39.423973\n",
      "切片索引\n"
     ]
    }
   ],
   "source": [
    "# df.iloc[] - 按照整数位置（从轴的0到length-1）选择行\n",
    "# 类似list的索引，其顺序就是dataframe的整数位置，从0开始计\n",
    "\n",
    "df = pd.DataFrame(np.random.rand(16).reshape(4,4)*100,\n",
    "                   index = ['one','two','three','four'],\n",
    "                   columns = ['a','b','c','d'])\n",
    "print(df)\n",
    "print('------')\n",
    "\n",
    "print(df.iloc[0])\n",
    "print(df.iloc[-1])\n",
    "# print(df.iloc[4])\n",
    "print('单位置索引\\n-----')\n",
    "# 单位置索引\n",
    "# 和loc索引不同，不能索引超出数据行数的整数位置\n",
    "\n",
    "print(df.iloc[[0,2]])\n",
    "print(df.iloc[[3,2,1]])\n",
    "print('多位置索引\\n-----')\n",
    "# 多位置索引\n",
    "# 顺序可变\n",
    "\n",
    "print(df.iloc[1:3])\n",
    "print(df.iloc[::2])\n",
    "print('切片索引')\n",
    "# 切片索引\n",
    "# 末端不包含"
   ]
  },
  {
   "cell_type": "code",
   "execution_count": 7,
   "metadata": {},
   "outputs": [
    {
     "name": "stdout",
     "output_type": "stream",
     "text": [
      "               a          b          c          d\n",
      "one    98.571465  73.184190  81.492488  74.693391\n",
      "two    28.446198  48.311807   9.724256  20.051154\n",
      "three  62.846210  14.108032  77.233452   0.028796\n",
      "four   62.083426  86.451429  64.058057  71.604811\n",
      "------\n",
      "           a      b      c      d\n",
      "one    False  False  False  False\n",
      "two    False  False   True  False\n",
      "three  False   True  False   True\n",
      "four   False  False  False  False <class 'pandas.core.frame.DataFrame'>\n",
      "------\n",
      "        a          b         c         d\n",
      "one   NaN        NaN       NaN       NaN\n",
      "two   NaN        NaN  9.724256       NaN\n",
      "three NaN  14.108032       NaN  0.028796\n",
      "four  NaN        NaN       NaN       NaN\n",
      "------\n",
      "one       True\n",
      "two      False\n",
      "three     True\n",
      "four      True\n",
      "Name: a, dtype: bool <class 'pandas.core.series.Series'>\n",
      "------\n",
      "               a          b          c          d\n",
      "one    98.571465  73.184190  81.492488  74.693391\n",
      "three  62.846210  14.108032  77.233452   0.028796\n",
      "four   62.083426  86.451429  64.058057  71.604811\n",
      "------\n"
     ]
    },
    {
     "data": {
      "text/html": [
       "<div>\n",
       "<style>\n",
       "    .dataframe thead tr:only-child th {\n",
       "        text-align: right;\n",
       "    }\n",
       "\n",
       "    .dataframe thead th {\n",
       "        text-align: left;\n",
       "    }\n",
       "\n",
       "    .dataframe tbody tr th {\n",
       "        vertical-align: top;\n",
       "    }\n",
       "</style>\n",
       "<table border=\"1\" class=\"dataframe\">\n",
       "  <thead>\n",
       "    <tr style=\"text-align: right;\">\n",
       "      <th></th>\n",
       "      <th>b</th>\n",
       "      <th>c</th>\n",
       "    </tr>\n",
       "  </thead>\n",
       "  <tbody>\n",
       "    <tr>\n",
       "      <th>one</th>\n",
       "      <td>73.184190</td>\n",
       "      <td>81.492488</td>\n",
       "    </tr>\n",
       "    <tr>\n",
       "      <th>three</th>\n",
       "      <td>14.108032</td>\n",
       "      <td>77.233452</td>\n",
       "    </tr>\n",
       "    <tr>\n",
       "      <th>four</th>\n",
       "      <td>86.451429</td>\n",
       "      <td>64.058057</td>\n",
       "    </tr>\n",
       "  </tbody>\n",
       "</table>\n",
       "</div>"
      ],
      "text/plain": [
       "               b          c\n",
       "one    73.184190  81.492488\n",
       "three  14.108032  77.233452\n",
       "four   86.451429  64.058057"
      ]
     },
     "execution_count": 7,
     "metadata": {},
     "output_type": "execute_result"
    }
   ],
   "source": [
    "# 布尔型索引\n",
    "# 多用于索引行\n",
    "\n",
    "df = pd.DataFrame(np.random.rand(16).reshape(4,4)*100,\n",
    "                   index = ['one','two','three','four'],\n",
    "                   columns = ['a','b','c','d'])\n",
    "print(df)\n",
    "print('------')\n",
    "\n",
    "b1 = df < 20\n",
    "print(b1,type(b1))\n",
    "print('------')\n",
    "print(df[b1])  # 也可以书写为 df[df < 20]\n",
    "print('------')\n",
    "# 不做索引则会对数据每个值进行判断\n",
    "# 索引结果保留 所有数据：True返回原数据，False返回值为NaN\n",
    "\n",
    "b2 = df['a'] > 50\n",
    "print(b2,type(b2))\n",
    "print('------')\n",
    "print(df[b2])  # 也可以书写为 df[df['a'] > 50]\n",
    "print('------')\n",
    "# 单列做判断\n",
    "# 索引结果保留 单列判断为True的行数据，包括其他列\n",
    "df[['b', 'c']][df['a']>50]"
   ]
  },
  {
   "cell_type": "code",
   "execution_count": 25,
   "metadata": {},
   "outputs": [
    {
     "name": "stdout",
     "output_type": "stream",
     "text": [
      "           a      b\n",
      "one     True  False\n",
      "two     True  False\n",
      "three   True  False\n",
      "four   False   True <class 'pandas.core.frame.DataFrame'>\n",
      "------\n",
      "           a     b      c     d\n",
      "one    False  True  False  True\n",
      "three  False  True  False  True <class 'pandas.core.frame.DataFrame'>\n",
      "------\n",
      "        a          b   c          d\n",
      "one   NaN   9.743740 NaN  20.680768\n",
      "two   NaN        NaN NaN        NaN\n",
      "three NaN  12.558108 NaN  30.541386\n",
      "four  NaN        NaN NaN        NaN\n",
      "------\n"
     ]
    }
   ],
   "source": [
    "\n",
    "b3 = df[['a','b']] > 50 \n",
    "print(b3,type(b3))\n",
    "# print(df[b3])  # 也可以书写为 df[df[['a','b']] > 50]\n",
    "# df[df[['a','b']] > 50]\n",
    "print('------')\n",
    "# 多列做判断\n",
    "# 索引结果保留 所有数据：True返回原数据，False返回值为NaN\n",
    "# 注意这里报错的话，更新一下pandas → conda update pandas\n",
    "\n",
    "b4 = df.loc[['one','three']] < 50\n",
    "print(b4,type(b4))\n",
    "print('------')\n",
    "print(df[b4])  # 也可以书写为 df[df.loc[['one','three']] < 50]\n",
    "print('------')\n",
    "# 多行做判断\n",
    "# 索引结果保留 所有数据：True返回原数据，False返回值为NaN"
   ]
  },
  {
   "cell_type": "code",
   "execution_count": 9,
   "metadata": {},
   "outputs": [
    {
     "name": "stdout",
     "output_type": "stream",
     "text": [
      "               a          b          c          d\n",
      "one    95.868100  52.183143  17.588833   1.911946\n",
      "two    82.865745  21.285253  63.505795  35.620282\n",
      "three  56.479367  65.402747   2.287153  49.147481\n",
      "four   16.308262  72.932184  20.997175  10.587928\n",
      "------\n",
      "one      95.868100\n",
      "three    56.479367\n",
      "Name: a, dtype: float64\n",
      "               b          c          d\n",
      "one    52.183143  17.588833   1.911946\n",
      "three  65.402747   2.287153  49.147481\n",
      "              a          b          c          d\n",
      "four  16.308262  72.932184  20.997175  10.587928\n"
     ]
    }
   ],
   "source": [
    "# 多重索引：比如同时索引行和列\n",
    "# 先选择列再选择行 —— 相当于对于一个数据，先筛选字段，再选择数据量\n",
    "\n",
    "df = pd.DataFrame(np.random.rand(16).reshape(4,4)*100,\n",
    "                   index = ['one','two','three','four'],\n",
    "                   columns = ['a','b','c','d'])\n",
    "print(df)\n",
    "print('------')\n",
    "\n",
    "print(df['a'].loc[['one','three']])   # 选择a列的one，three行\n",
    "print(df[['b','c','d']].iloc[::2])   # 选择b，c，d列的one，three行\n",
    "print(df[df['a'] < 50].iloc[:2])   # 选择满足判断索引的前两行数据"
   ]
  },
  {
   "cell_type": "markdown",
   "metadata": {},
   "source": [
    "######## 课后小练习,请查看 “pandas课程作业.docx”  ########"
   ]
  },
  {
   "cell_type": "markdown",
   "metadata": {},
   "source": [
    "作业1：如图创建Dataframe(4*4，值为0-100的随机数)，通过索引得到以下值\n",
    "* 索引得到b，c列的所有值\n",
    "* 索引得到第三第四行的数据\n",
    "* 按顺序索引得到two，one行的值\n",
    "* 索引得到大于50的值\n"
   ]
  },
  {
   "cell_type": "code",
   "execution_count": 10,
   "metadata": {
    "collapsed": true
   },
   "outputs": [],
   "source": [
    "import pandas as pd\n",
    "import numpy as np\n",
    "df = pd.DataFrame(np.random.rand(16).reshape(4, 4)*100,\n",
    "                 index = ['one','two', 'three', 'four'],\n",
    "                 columns = ['a', 'b', 'c', 'd'])"
   ]
  },
  {
   "cell_type": "code",
   "execution_count": 11,
   "metadata": {},
   "outputs": [
    {
     "data": {
      "text/html": [
       "<div>\n",
       "<style>\n",
       "    .dataframe thead tr:only-child th {\n",
       "        text-align: right;\n",
       "    }\n",
       "\n",
       "    .dataframe thead th {\n",
       "        text-align: left;\n",
       "    }\n",
       "\n",
       "    .dataframe tbody tr th {\n",
       "        vertical-align: top;\n",
       "    }\n",
       "</style>\n",
       "<table border=\"1\" class=\"dataframe\">\n",
       "  <thead>\n",
       "    <tr style=\"text-align: right;\">\n",
       "      <th></th>\n",
       "      <th>c</th>\n",
       "      <th>d</th>\n",
       "    </tr>\n",
       "  </thead>\n",
       "  <tbody>\n",
       "    <tr>\n",
       "      <th>one</th>\n",
       "      <td>97.862963</td>\n",
       "      <td>20.680768</td>\n",
       "    </tr>\n",
       "    <tr>\n",
       "      <th>two</th>\n",
       "      <td>95.122120</td>\n",
       "      <td>3.210041</td>\n",
       "    </tr>\n",
       "    <tr>\n",
       "      <th>three</th>\n",
       "      <td>61.594363</td>\n",
       "      <td>30.541386</td>\n",
       "    </tr>\n",
       "    <tr>\n",
       "      <th>four</th>\n",
       "      <td>74.211024</td>\n",
       "      <td>18.400258</td>\n",
       "    </tr>\n",
       "  </tbody>\n",
       "</table>\n",
       "</div>"
      ],
      "text/plain": [
       "               c          d\n",
       "one    97.862963  20.680768\n",
       "two    95.122120   3.210041\n",
       "three  61.594363  30.541386\n",
       "four   74.211024  18.400258"
      ]
     },
     "execution_count": 11,
     "metadata": {},
     "output_type": "execute_result"
    }
   ],
   "source": [
    "df[['c', 'd']]"
   ]
  },
  {
   "cell_type": "code",
   "execution_count": 12,
   "metadata": {},
   "outputs": [
    {
     "data": {
      "text/html": [
       "<div>\n",
       "<style>\n",
       "    .dataframe thead tr:only-child th {\n",
       "        text-align: right;\n",
       "    }\n",
       "\n",
       "    .dataframe thead th {\n",
       "        text-align: left;\n",
       "    }\n",
       "\n",
       "    .dataframe tbody tr th {\n",
       "        vertical-align: top;\n",
       "    }\n",
       "</style>\n",
       "<table border=\"1\" class=\"dataframe\">\n",
       "  <thead>\n",
       "    <tr style=\"text-align: right;\">\n",
       "      <th></th>\n",
       "      <th>a</th>\n",
       "      <th>b</th>\n",
       "      <th>c</th>\n",
       "      <th>d</th>\n",
       "    </tr>\n",
       "  </thead>\n",
       "  <tbody>\n",
       "    <tr>\n",
       "      <th>three</th>\n",
       "      <td>70.009040</td>\n",
       "      <td>12.558108</td>\n",
       "      <td>61.594363</td>\n",
       "      <td>30.541386</td>\n",
       "    </tr>\n",
       "    <tr>\n",
       "      <th>four</th>\n",
       "      <td>42.881315</td>\n",
       "      <td>54.290105</td>\n",
       "      <td>74.211024</td>\n",
       "      <td>18.400258</td>\n",
       "    </tr>\n",
       "  </tbody>\n",
       "</table>\n",
       "</div>"
      ],
      "text/plain": [
       "               a          b          c          d\n",
       "three  70.009040  12.558108  61.594363  30.541386\n",
       "four   42.881315  54.290105  74.211024  18.400258"
      ]
     },
     "execution_count": 12,
     "metadata": {},
     "output_type": "execute_result"
    }
   ],
   "source": [
    "df.loc[['three', 'four']]"
   ]
  },
  {
   "cell_type": "code",
   "execution_count": 13,
   "metadata": {},
   "outputs": [
    {
     "data": {
      "text/html": [
       "<div>\n",
       "<style>\n",
       "    .dataframe thead tr:only-child th {\n",
       "        text-align: right;\n",
       "    }\n",
       "\n",
       "    .dataframe thead th {\n",
       "        text-align: left;\n",
       "    }\n",
       "\n",
       "    .dataframe tbody tr th {\n",
       "        vertical-align: top;\n",
       "    }\n",
       "</style>\n",
       "<table border=\"1\" class=\"dataframe\">\n",
       "  <thead>\n",
       "    <tr style=\"text-align: right;\">\n",
       "      <th></th>\n",
       "      <th>a</th>\n",
       "      <th>b</th>\n",
       "      <th>c</th>\n",
       "      <th>d</th>\n",
       "    </tr>\n",
       "  </thead>\n",
       "  <tbody>\n",
       "    <tr>\n",
       "      <th>three</th>\n",
       "      <td>70.009040</td>\n",
       "      <td>12.558108</td>\n",
       "      <td>61.594363</td>\n",
       "      <td>30.541386</td>\n",
       "    </tr>\n",
       "    <tr>\n",
       "      <th>four</th>\n",
       "      <td>42.881315</td>\n",
       "      <td>54.290105</td>\n",
       "      <td>74.211024</td>\n",
       "      <td>18.400258</td>\n",
       "    </tr>\n",
       "  </tbody>\n",
       "</table>\n",
       "</div>"
      ],
      "text/plain": [
       "               a          b          c          d\n",
       "three  70.009040  12.558108  61.594363  30.541386\n",
       "four   42.881315  54.290105  74.211024  18.400258"
      ]
     },
     "execution_count": 13,
     "metadata": {},
     "output_type": "execute_result"
    }
   ],
   "source": [
    "df.iloc[[2, 3]]"
   ]
  },
  {
   "cell_type": "code",
   "execution_count": 14,
   "metadata": {},
   "outputs": [
    {
     "data": {
      "text/html": [
       "<div>\n",
       "<style>\n",
       "    .dataframe thead tr:only-child th {\n",
       "        text-align: right;\n",
       "    }\n",
       "\n",
       "    .dataframe thead th {\n",
       "        text-align: left;\n",
       "    }\n",
       "\n",
       "    .dataframe tbody tr th {\n",
       "        vertical-align: top;\n",
       "    }\n",
       "</style>\n",
       "<table border=\"1\" class=\"dataframe\">\n",
       "  <thead>\n",
       "    <tr style=\"text-align: right;\">\n",
       "      <th></th>\n",
       "      <th>a</th>\n",
       "      <th>b</th>\n",
       "      <th>c</th>\n",
       "      <th>d</th>\n",
       "    </tr>\n",
       "  </thead>\n",
       "  <tbody>\n",
       "    <tr>\n",
       "      <th>two</th>\n",
       "      <td>68.530427</td>\n",
       "      <td>33.652195</td>\n",
       "      <td>95.122120</td>\n",
       "      <td>3.210041</td>\n",
       "    </tr>\n",
       "    <tr>\n",
       "      <th>one</th>\n",
       "      <td>59.090007</td>\n",
       "      <td>9.743740</td>\n",
       "      <td>97.862963</td>\n",
       "      <td>20.680768</td>\n",
       "    </tr>\n",
       "  </tbody>\n",
       "</table>\n",
       "</div>"
      ],
      "text/plain": [
       "             a          b          c          d\n",
       "two  68.530427  33.652195  95.122120   3.210041\n",
       "one  59.090007   9.743740  97.862963  20.680768"
      ]
     },
     "execution_count": 14,
     "metadata": {},
     "output_type": "execute_result"
    }
   ],
   "source": [
    "df.loc[['two', 'one']]"
   ]
  },
  {
   "cell_type": "code",
   "execution_count": 15,
   "metadata": {
    "scrolled": true
   },
   "outputs": [
    {
     "data": {
      "text/html": [
       "<div>\n",
       "<style>\n",
       "    .dataframe thead tr:only-child th {\n",
       "        text-align: right;\n",
       "    }\n",
       "\n",
       "    .dataframe thead th {\n",
       "        text-align: left;\n",
       "    }\n",
       "\n",
       "    .dataframe tbody tr th {\n",
       "        vertical-align: top;\n",
       "    }\n",
       "</style>\n",
       "<table border=\"1\" class=\"dataframe\">\n",
       "  <thead>\n",
       "    <tr style=\"text-align: right;\">\n",
       "      <th></th>\n",
       "      <th>a</th>\n",
       "      <th>b</th>\n",
       "      <th>c</th>\n",
       "      <th>d</th>\n",
       "    </tr>\n",
       "  </thead>\n",
       "  <tbody>\n",
       "    <tr>\n",
       "      <th>one</th>\n",
       "      <td>59.090007</td>\n",
       "      <td>NaN</td>\n",
       "      <td>97.862963</td>\n",
       "      <td>NaN</td>\n",
       "    </tr>\n",
       "    <tr>\n",
       "      <th>two</th>\n",
       "      <td>68.530427</td>\n",
       "      <td>NaN</td>\n",
       "      <td>95.122120</td>\n",
       "      <td>NaN</td>\n",
       "    </tr>\n",
       "    <tr>\n",
       "      <th>three</th>\n",
       "      <td>70.009040</td>\n",
       "      <td>NaN</td>\n",
       "      <td>61.594363</td>\n",
       "      <td>NaN</td>\n",
       "    </tr>\n",
       "    <tr>\n",
       "      <th>four</th>\n",
       "      <td>NaN</td>\n",
       "      <td>54.290105</td>\n",
       "      <td>74.211024</td>\n",
       "      <td>NaN</td>\n",
       "    </tr>\n",
       "  </tbody>\n",
       "</table>\n",
       "</div>"
      ],
      "text/plain": [
       "               a          b          c   d\n",
       "one    59.090007        NaN  97.862963 NaN\n",
       "two    68.530427        NaN  95.122120 NaN\n",
       "three  70.009040        NaN  61.594363 NaN\n",
       "four         NaN  54.290105  74.211024 NaN"
      ]
     },
     "execution_count": 15,
     "metadata": {},
     "output_type": "execute_result"
    }
   ],
   "source": [
    "df[df>50]"
   ]
  },
  {
   "cell_type": "markdown",
   "metadata": {},
   "source": [
    "作业2：创建一个Series，包含10个元素，且每个值为0-100的均匀分布随机值，index为a-j，请分别筛选出：\n",
    "* 标签为b，c的值为多少\n",
    "* Series中第4个和6个值是哪些？\n",
    "* Series中大于50的值有哪些？"
   ]
  },
  {
   "cell_type": "code",
   "execution_count": 16,
   "metadata": {},
   "outputs": [
    {
     "data": {
      "text/plain": [
       "a    83.130486\n",
       "b    86.794950\n",
       "c    61.105536\n",
       "d    49.222574\n",
       "e    34.987145\n",
       "f     2.656418\n",
       "g    72.558290\n",
       "h    95.349401\n",
       "i    99.723930\n",
       "j    58.909200\n",
       "dtype: float64"
      ]
     },
     "execution_count": 16,
     "metadata": {},
     "output_type": "execute_result"
    }
   ],
   "source": [
    "s = pd.Series(np.random.rand(10)*100,\n",
    "             index = ['a','b','c','d','e','f', 'g','h','i','j'])\n",
    "s"
   ]
  },
  {
   "cell_type": "code",
   "execution_count": 17,
   "metadata": {},
   "outputs": [
    {
     "data": {
      "text/plain": [
       "(86.794950463338523, 61.105536261792828)"
      ]
     },
     "execution_count": 17,
     "metadata": {},
     "output_type": "execute_result"
    }
   ],
   "source": [
    "s.loc['b'], s.loc['c']"
   ]
  },
  {
   "cell_type": "code",
   "execution_count": 18,
   "metadata": {},
   "outputs": [
    {
     "data": {
      "text/plain": [
       "(34.987145395207101, 72.558289655635264)"
      ]
     },
     "execution_count": 18,
     "metadata": {},
     "output_type": "execute_result"
    }
   ],
   "source": [
    "s.iloc[4], s.iloc[6]"
   ]
  },
  {
   "cell_type": "code",
   "execution_count": 19,
   "metadata": {},
   "outputs": [
    {
     "data": {
      "text/plain": [
       "a    83.130486\n",
       "b    86.794950\n",
       "c    61.105536\n",
       "g    72.558290\n",
       "h    95.349401\n",
       "i    99.723930\n",
       "j    58.909200\n",
       "dtype: float64"
      ]
     },
     "execution_count": 19,
     "metadata": {},
     "output_type": "execute_result"
    }
   ],
   "source": [
    "s[s>50]"
   ]
  },
  {
   "cell_type": "code",
   "execution_count": 20,
   "metadata": {},
   "outputs": [
    {
     "data": {
      "text/plain": [
       "['a', 'b', 'c', 'g', 'h', 'i', 'j']"
      ]
     },
     "execution_count": 20,
     "metadata": {},
     "output_type": "execute_result"
    }
   ],
   "source": [
    "s[s>50].index.tolist()"
   ]
  },
  {
   "cell_type": "code",
   "execution_count": null,
   "metadata": {
    "collapsed": true
   },
   "outputs": [],
   "source": []
  }
 ],
 "metadata": {
  "kernelspec": {
   "display_name": "Python [conda env:tf1]",
   "language": "python",
   "name": "conda-env-tf1-py"
  },
  "language_info": {
   "codemirror_mode": {
    "name": "ipython",
    "version": 3
   },
   "file_extension": ".py",
   "mimetype": "text/x-python",
   "name": "python",
   "nbconvert_exporter": "python",
   "pygments_lexer": "ipython3",
   "version": "3.6.9"
  },
  "toc": {
   "base_numbering": 1,
   "nav_menu": {},
   "number_sections": true,
   "sideBar": true,
   "skip_h1_title": false,
   "title_cell": "Table of Contents",
   "title_sidebar": "Contents",
   "toc_cell": false,
   "toc_position": {},
   "toc_section_display": true,
   "toc_window_display": false
  }
 },
 "nbformat": 4,
 "nbformat_minor": 1
}
