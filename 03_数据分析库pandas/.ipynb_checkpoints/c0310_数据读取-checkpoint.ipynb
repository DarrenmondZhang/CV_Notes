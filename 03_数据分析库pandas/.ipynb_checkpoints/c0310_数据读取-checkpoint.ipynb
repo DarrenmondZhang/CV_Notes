{
 "cells": [
  {
   "cell_type": "markdown",
   "metadata": {},
   "source": [
    "核心：read_table, read_csv, read_excel"
   ]
  },
  {
   "cell_type": "code",
   "execution_count": 1,
   "metadata": {
    "collapsed": true
   },
   "outputs": [],
   "source": [
    "import numpy as np\n",
    "import pandas as pd  \n",
    "# 导入numpy、pandas模块"
   ]
  },
  {
   "cell_type": "code",
   "execution_count": 2,
   "metadata": {},
   "outputs": [
    {
     "name": "stdout",
     "output_type": "stream",
     "text": [
      "   va1  va2  va3  va4\n",
      "0    1    2    3    4\n",
      "1    2    3    4    5\n",
      "2    3    4    5    6\n",
      "3    4    5    6    7\n",
      "     va1  va3  va4\n",
      "va2               \n",
      "2      1    3    4\n",
      "3      2    4    5\n",
      "4      3    5    6\n",
      "5      4    6    7\n"
     ]
    }
   ],
   "source": [
    "# 读取普通分隔数据：read_table\n",
    "# 可以读取txt，csv\n",
    "\n",
    "import os\n",
    "os.chdir('F:/Jupyter_WorkSpace/CV/03. 数据分析库pandas')\n",
    "\n",
    "data0 = pd.read_table('data1.txt', delimiter=',',header = 0)\n",
    "print(data0)\n",
    "data1 = pd.read_table('data1.txt', delimiter=',',header = 0, index_col=1)\n",
    "print(data1)\n",
    "# delimiter：用于拆分的字符，也可以用sep：sep = ','\n",
    "# header：用做列名的序号，默认为0（第一行）\n",
    "# index_col：指定某列为行索引，否则自动索引0, 1, .....\n",
    "\n",
    "# read_table主要用于读取简单的数据，txt/csv"
   ]
  },
  {
   "cell_type": "code",
   "execution_count": 16,
   "metadata": {
    "scrolled": false
   },
   "outputs": [
    {
     "name": "stdout",
     "output_type": "stream",
     "text": [
      "   va1  va2  va3  va4\n",
      "0    1    2    3    4\n",
      "1    2    3    4    5\n",
      "2    3    4    5    6\n",
      "3    4    5    6    7\n"
     ]
    }
   ],
   "source": [
    "# 读取csv数据：read_csv\n",
    "# 先熟悉一下excel怎么导出csv\n",
    "\n",
    "data2 = pd.read_csv('data2.csv',encoding = 'utf-8')\n",
    "print(data2.head())\n",
    "# encoding：指定字符集类型，即编码，通常指定为'utf-8'\n",
    "\n",
    "# 大多数情况先将excel导出csv，再读取"
   ]
  },
  {
   "cell_type": "code",
   "execution_count": 17,
   "metadata": {
    "scrolled": true
   },
   "outputs": [
    {
     "name": "stdout",
     "output_type": "stream",
     "text": [
      "Empty DataFrame\n",
      "Columns: [中国人民共和国地市级党委书记数据库（2000-2010）\n",
      "Data on Prefectural Party Secretary of P. R. China, 2000-2010\n",
      "\n",
      "如使用本数据库，请在论文中致谢或引用。使用过程中遇到问题，请联系cs@fudan.edu.cn。引用格式：\n",
      "\n",
      "陈硕，2015，从治理到制度：央地关系下的中国政治精英选拔，1368-2010。复旦大学经济系工作论文\n",
      "\n",
      "Please kindly acknowledge us (see below) when publishing your work using this data source--be it in whole or in part. Contact cs@fudan.edu.cn if you have any questions concerning either the data structure or programming.\n",
      "\n",
      "Shuo Chen, 2015, “From Governance to Institutionalization: Political Selection from the Perspective of Central-local Relations in China--Past and Present (1368-2010)” Department of Economics, Fudan University Working Paper.\n",
      "\n",
      "地市级党委书记数据库由复旦大学经济学院陈硕副教授及其团队（Fudan WTF Social Science Lab）成员整理。数据库涵盖全国27个省（及自治区）333个地级市（及副省级城市、自治州和地区）2000-2010年989位党委书记个人信息。数据类型为市-年平衡面板， 3663个市-年-党委书记观察值（缺失642个观察值信息，实有3021个观察值）。以下是数据建立方法：\n",
      "\n",
      "1. 查阅各省（及自治区）年鉴整理出2000-2010年间各地市级行政区划党委书记名单\n",
      "2. 通过人民网、新华网、各地方政府网站及百度百科查询各党委书记简历\n",
      "3. 对简历进行电子化整理获得现有数据库\n",
      "4. 当某市某年有超过1位党委书记任职时，我们以最后上任书记信息为准\n",
      "]\n",
      "Index: []\n"
     ]
    }
   ],
   "source": [
    "# 读取excel数据：read_excel\n",
    "\n",
    "data3 = pd.read_excel('地市级党委书记数据库（2000-10）.xlsx',sheetname=0,header=0)\n",
    "print(data3.head())\n",
    "# io ：文件路径。\n",
    "# sheetname：返回多表使用sheetname=[0,1],若sheetname=None是返回全表 → ① int/string 返回的是dataframe ②而none和list返回的是dict\n",
    "# header：指定列名行，默认0，即取第一行\n",
    "# index_col：指定列为索引列，也可以使用u”strings”"
   ]
  },
  {
   "cell_type": "code",
   "execution_count": 15,
   "metadata": {},
   "outputs": [
    {
     "name": "stdout",
     "output_type": "stream",
     "text": [
      "   省级政区代码 省级政区名称  地市级政区代码 地市级政区名称    年份 党委书记姓名  出生年份  出生月份  籍贯省份代码 籍贯省份名称  \\\n",
      "0  130000    河北省   130100    石家庄市  2000    陈来立   NaN   NaN     NaN    NaN   \n",
      "1  130000    河北省   130100    石家庄市  2001    吴振华   NaN   NaN     NaN    NaN   \n",
      "2  130000    河北省   130100    石家庄市  2002    吴振华   NaN   NaN     NaN    NaN   \n",
      "3  130000    河北省   130100    石家庄市  2003    吴振华   NaN   NaN     NaN    NaN   \n",
      "4  130000    河北省   130100    石家庄市  2004    吴振华   NaN   NaN     NaN    NaN   \n",
      "\n",
      "   ...    民族  教育 是否是党校教育（是=1，否=0） 专业：人文 专业：社科  专业：理工  专业：农科  专业：医科  入党年份  工作年份  \n",
      "0  ...   NaN  硕士              1.0   NaN   NaN    NaN    NaN    NaN   NaN   NaN  \n",
      "1  ...   NaN  本科              0.0   0.0   0.0    1.0    0.0    0.0   NaN   NaN  \n",
      "2  ...   NaN  本科              0.0   0.0   0.0    1.0    0.0    0.0   NaN   NaN  \n",
      "3  ...   NaN  本科              0.0   0.0   0.0    1.0    0.0    0.0   NaN   NaN  \n",
      "4  ...   NaN  本科              0.0   0.0   0.0    1.0    0.0    0.0   NaN   NaN  \n",
      "\n",
      "[5 rows x 23 columns]\n"
     ]
    }
   ],
   "source": [
    "data4 = pd.read_excel('地市级党委书记数据库（2000-10）.xlsx',sheetname=1, header=0)\n",
    "print(data4.head())"
   ]
  },
  {
   "cell_type": "code",
   "execution_count": null,
   "metadata": {
    "collapsed": true
   },
   "outputs": [],
   "source": []
  },
  {
   "cell_type": "code",
   "execution_count": null,
   "metadata": {
    "collapsed": true
   },
   "outputs": [],
   "source": []
  }
 ],
 "metadata": {
  "kernelspec": {
   "display_name": "Python [conda env:tf1]",
   "language": "python",
   "name": "conda-env-tf1-py"
  },
  "language_info": {
   "codemirror_mode": {
    "name": "ipython",
    "version": 3
   },
   "file_extension": ".py",
   "mimetype": "text/x-python",
   "name": "python",
   "nbconvert_exporter": "python",
   "pygments_lexer": "ipython3",
   "version": "3.6.9"
  }
 },
 "nbformat": 4,
 "nbformat_minor": 1
}
