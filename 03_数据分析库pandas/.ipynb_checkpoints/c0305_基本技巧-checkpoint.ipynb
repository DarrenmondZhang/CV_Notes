{
 "cells": [
  {
   "cell_type": "markdown",
   "metadata": {},
   "source": [
    "数据查看、转置 / 添加、修改、删除值 / 对齐 / 排序"
   ]
  },
  {
   "cell_type": "code",
   "execution_count": 1,
   "metadata": {
    "collapsed": true
   },
   "outputs": [],
   "source": [
    "import numpy as np\n",
    "import pandas as pd  \n",
    "# 导入numpy、pandas模块"
   ]
  },
  {
   "cell_type": "code",
   "execution_count": 2,
   "metadata": {},
   "outputs": [
    {
     "name": "stdout",
     "output_type": "stream",
     "text": [
      "           a          b\n",
      "0  96.079042  41.249956\n",
      "1  70.186582  31.042804\n",
      "           a          b\n",
      "3   6.864663  10.243031\n",
      "4  14.702006  23.044742\n",
      "5  51.629713  86.914530\n",
      "6  38.003492  97.680993\n",
      "7  27.859686  95.680456\n",
      "           0          1          2          3          4          5  \\\n",
      "a  96.079042  70.186582  13.446537   6.864663  14.702006  51.629713   \n",
      "b  41.249956  31.042804  96.279846  10.243031  23.044742  86.914530   \n",
      "\n",
      "           6          7  \n",
      "a  38.003492  27.859686  \n",
      "b  97.680993  95.680456  \n"
     ]
    }
   ],
   "source": [
    "# 数据查看、转置\n",
    "\n",
    "df = pd.DataFrame(np.random.rand(16).reshape(8,2)*100,\n",
    "                   columns = ['a','b'])\n",
    "print(df.head(2))\n",
    "print(df.tail())\n",
    "# .head()查看头部数据\n",
    "# .tail()查看尾部数据\n",
    "# 默认查看5条\n",
    "\n",
    "print(df.T)\n",
    "# .T 转置"
   ]
  },
  {
   "cell_type": "code",
   "execution_count": 3,
   "metadata": {},
   "outputs": [
    {
     "name": "stdout",
     "output_type": "stream",
     "text": [
      "           a          b          c          d\n",
      "0  41.166552  59.364627  23.423389  72.971781\n",
      "1   0.171882  66.314558  66.902621  89.825885\n",
      "2  63.666029  51.130439  31.849333  92.078950\n",
      "3   5.050291   2.246604  74.589851  86.822446\n",
      "           a          b          c          d   e\n",
      "0  41.166552  59.364627  23.423389  72.971781  10\n",
      "1   0.171882  66.314558  66.902621  89.825885  10\n",
      "2  63.666029  51.130439  31.849333  92.078950  10\n",
      "3   5.050291   2.246604  74.589851  86.822446  10\n",
      "4  20.000000  20.000000  20.000000  20.000000  20\n",
      "     a          b    c          d   e\n",
      "0  100  59.364627  100  72.971781  20\n",
      "1  100  66.314558  100  89.825885  20\n",
      "2  100  51.130439  100  92.078950  20\n",
      "3  100   2.246604  100  86.822446  20\n",
      "4  100  20.000000  100  20.000000  20\n"
     ]
    }
   ],
   "source": [
    "# 添加与修改\n",
    "\n",
    "df = pd.DataFrame(np.random.rand(16).reshape(4,4)*100,\n",
    "                   columns = ['a','b','c','d'])\n",
    "print(df)\n",
    "\n",
    "df['e'] = 10\n",
    "df.loc[4] = 20\n",
    "print(df)\n",
    "# 新增列/行并赋值\n",
    "\n",
    "df['e'] = 20\n",
    "df[['a','c']] = 100\n",
    "print(df)\n",
    "# 索引后直接修改值"
   ]
  },
  {
   "cell_type": "code",
   "execution_count": 4,
   "metadata": {},
   "outputs": [
    {
     "name": "stdout",
     "output_type": "stream",
     "text": [
      "           a          b          c          d\n",
      "0  57.361927  84.502240  58.315827  68.519939\n",
      "1   2.873194   9.556548  90.082804  57.302793\n",
      "2  67.971025  11.593779  25.569215  47.391846\n",
      "3  42.046002  46.751111  38.645890  88.258936\n",
      "           b          c          d\n",
      "0  84.502240  58.315827  68.519939\n",
      "1   9.556548  90.082804  57.302793\n",
      "2  11.593779  25.569215  47.391846\n",
      "3  46.751111  38.645890  88.258936\n",
      "-----\n",
      "           b          c          d\n",
      "1   9.556548  90.082804  57.302793\n",
      "2  11.593779  25.569215  47.391846\n",
      "3  46.751111  38.645890  88.258936\n",
      "           b          c          d\n",
      "0  84.502240  58.315827  68.519939\n",
      "3  46.751111  38.645890  88.258936\n",
      "           b          c          d\n",
      "0  84.502240  58.315827  68.519939\n",
      "1   9.556548  90.082804  57.302793\n",
      "2  11.593779  25.569215  47.391846\n",
      "3  46.751111  38.645890  88.258936\n",
      "-----\n",
      "           b          c\n",
      "0  84.502240  58.315827\n",
      "1   9.556548  90.082804\n",
      "2  11.593779  25.569215\n",
      "3  46.751111  38.645890\n",
      "           b          c          d\n",
      "0  84.502240  58.315827  68.519939\n",
      "1   9.556548  90.082804  57.302793\n",
      "2  11.593779  25.569215  47.391846\n",
      "3  46.751111  38.645890  88.258936\n"
     ]
    }
   ],
   "source": [
    "# 删除  del / drop()\n",
    "\n",
    "df = pd.DataFrame(np.random.rand(16).reshape(4,4)*100,\n",
    "                   columns = ['a','b','c','d'])\n",
    "print(df)\n",
    "\n",
    "del df['a']\n",
    "print(df)\n",
    "print('-----')\n",
    "# del语句 - 删除列\n",
    "\n",
    "print(df.drop(0))\n",
    "print(df.drop([1,2]))\n",
    "print(df)\n",
    "print('-----')\n",
    "# drop()删除行，inplace=False → 删除后生成新的数据，不改变原数据\n",
    "\n",
    "print(df.drop(['d'], axis = 1))\n",
    "print(df)\n",
    "# drop()删除列，需要加上axis = 1，inplace=False → 删除后生成新的数据，不改变原数据"
   ]
  },
  {
   "cell_type": "code",
   "execution_count": 5,
   "metadata": {},
   "outputs": [
    {
     "name": "stdout",
     "output_type": "stream",
     "text": [
      "          A         B         C   D\n",
      "0  1.177168 -0.465250 -0.305403 NaN\n",
      "1 -0.722196  0.786456  0.612768 NaN\n",
      "2 -0.813708  1.570526  0.583725 NaN\n",
      "3  1.022631 -0.950707 -0.869800 NaN\n",
      "4 -1.938629  0.485107  0.778922 NaN\n",
      "5 -3.569708  0.615179 -0.519240 NaN\n",
      "6 -1.072452 -0.525067 -2.215725 NaN\n",
      "7       NaN       NaN       NaN NaN\n",
      "8       NaN       NaN       NaN NaN\n",
      "9       NaN       NaN       NaN NaN\n"
     ]
    }
   ],
   "source": [
    "# 对齐\n",
    "\n",
    "df1 = pd.DataFrame(np.random.randn(10, 4), columns=['A', 'B', 'C', 'D'])\n",
    "df2 = pd.DataFrame(np.random.randn(7, 3), columns=['A', 'B', 'C'])\n",
    "print(df1 + df2)\n",
    "# DataFrame对象之间的数据自动按照列和索引（行标签）对齐"
   ]
  },
  {
   "cell_type": "code",
   "execution_count": 6,
   "metadata": {},
   "outputs": [
    {
     "name": "stdout",
     "output_type": "stream",
     "text": [
      "           a          b          c          d\n",
      "0  28.798065  49.128866  19.259480   9.687411\n",
      "1  67.312134  95.876188  87.949306  67.819911\n",
      "2  94.992952  52.886028  49.857160  25.689137\n",
      "3  60.738400  35.190694  63.137864   3.845440\n",
      "           a          b          c          d\n",
      "0  28.798065  49.128866  19.259480   9.687411\n",
      "3  60.738400  35.190694  63.137864   3.845440\n",
      "1  67.312134  95.876188  87.949306  67.819911\n",
      "2  94.992952  52.886028  49.857160  25.689137\n",
      "           a          b          c          d\n",
      "2  94.992952  52.886028  49.857160  25.689137\n",
      "1  67.312134  95.876188  87.949306  67.819911\n",
      "3  60.738400  35.190694  63.137864   3.845440\n",
      "0  28.798065  49.128866  19.259480   9.687411\n",
      "------\n",
      "   a  b  c\n",
      "0  1  0  8\n",
      "1  1  1  7\n",
      "2  1  2  6\n",
      "3  1  3  5\n",
      "4  2  4  4\n",
      "5  2  5  3\n",
      "6  2  6  2\n",
      "7  2  7  1\n",
      "   a  b  c\n",
      "3  1  3  5\n",
      "2  1  2  6\n",
      "1  1  1  7\n",
      "0  1  0  8\n",
      "7  2  7  1\n",
      "6  2  6  2\n",
      "5  2  5  3\n",
      "4  2  4  4\n"
     ]
    }
   ],
   "source": [
    "# 排序1 - 按值排序 .sort_values\n",
    "# 同样适用于Series\n",
    "\n",
    "df1 = pd.DataFrame(np.random.rand(16).reshape(4,4)*100,\n",
    "                   columns = ['a','b','c','d'])\n",
    "print(df1)\n",
    "print(df1.sort_values(['a'], ascending = True))  # 升序\n",
    "print(df1.sort_values(['a'], ascending = False))  # 降序\n",
    "print('------')\n",
    "# ascending参数：设置升序降序，默认升序\n",
    "# 单列排序\n",
    "\n",
    "df2 = pd.DataFrame({'a':[1,1,1,1,2,2,2,2],\n",
    "                  'b':list(range(8)),\n",
    "                  'c':list(range(8,0,-1))})\n",
    "print(df2)\n",
    "print(df2.sort_values(['a','c']))\n",
    "# 多列排序，按列顺序排序\n",
    "# 注意inplace参数"
   ]
  },
  {
   "cell_type": "code",
   "execution_count": 7,
   "metadata": {},
   "outputs": [
    {
     "name": "stdout",
     "output_type": "stream",
     "text": [
      "           a          b          c          d\n",
      "5  10.103177   6.445184   4.591523   8.508666\n",
      "4  59.737571  83.916931  51.351531  32.686829\n",
      "3  89.309772  35.487338  86.256400  62.143106\n",
      "2   2.396828  96.383320  99.288467   6.761351\n",
      "           a          b          c          d\n",
      "2   2.396828  96.383320  99.288467   6.761351\n",
      "3  89.309772  35.487338  86.256400  62.143106\n",
      "4  59.737571  83.916931  51.351531  32.686829\n",
      "5  10.103177   6.445184   4.591523   8.508666\n",
      "           a          b          c          d\n",
      "h  42.710554   0.488116  99.530369  53.349111\n",
      "s  84.426215  83.781544  64.197658  43.152450\n",
      "x  64.779529  88.996893  41.719366  23.806238\n",
      "g  19.845966  88.363422  66.549706  60.593460\n",
      "           a          b          c          d\n",
      "g  19.845966  88.363422  66.549706  60.593460\n",
      "h  42.710554   0.488116  99.530369  53.349111\n",
      "s  84.426215  83.781544  64.197658  43.152450\n",
      "x  64.779529  88.996893  41.719366  23.806238\n"
     ]
    }
   ],
   "source": [
    "# 排序2 - 索引排序 .sort_index\n",
    "\n",
    "df1 = pd.DataFrame(np.random.rand(16).reshape(4,4)*100,\n",
    "                  index = [5,4,3,2],\n",
    "                   columns = ['a','b','c','d'])\n",
    "df2 = pd.DataFrame(np.random.rand(16).reshape(4,4)*100,\n",
    "                  index = ['h','s','x','g'],\n",
    "                   columns = ['a','b','c','d'])\n",
    "print(df1)\n",
    "print(df1.sort_index())\n",
    "print(df2)\n",
    "print(df2.sort_index())\n",
    "# 按照index排序\n",
    "# 默认 ascending=True, inplace=False"
   ]
  },
  {
   "cell_type": "markdown",
   "metadata": {},
   "source": [
    "######## 课后小练习,请查看 “pandas课程作业.docx”  ########"
   ]
  },
  {
   "attachments": {
    "image.png": {
     "image/png": "[encoded data removed]"
    }
   },
   "cell_type": "markdown",
   "metadata": {},
   "source": [
    "作业1：创建一个3*3，值在0-100区间随机值的Dataframe（如图），分别按照index和第二列值大小，降序排序\n",
    "![image.png](attachment:image.png)"
   ]
  },
  {
   "cell_type": "code",
   "execution_count": 10,
   "metadata": {},
   "outputs": [
    {
     "data": {
      "text/html": [
       "<div>\n",
       "<style>\n",
       "    .dataframe thead tr:only-child th {\n",
       "        text-align: right;\n",
       "    }\n",
       "\n",
       "    .dataframe thead th {\n",
       "        text-align: left;\n",
       "    }\n",
       "\n",
       "    .dataframe tbody tr th {\n",
       "        vertical-align: top;\n",
       "    }\n",
       "</style>\n",
       "<table border=\"1\" class=\"dataframe\">\n",
       "  <thead>\n",
       "    <tr style=\"text-align: right;\">\n",
       "      <th></th>\n",
       "      <th>one</th>\n",
       "      <th>two</th>\n",
       "      <th>three</th>\n",
       "      <th>four</th>\n",
       "    </tr>\n",
       "  </thead>\n",
       "  <tbody>\n",
       "    <tr>\n",
       "      <th>a</th>\n",
       "      <td>75.058235</td>\n",
       "      <td>4.815421</td>\n",
       "      <td>6.419869</td>\n",
       "      <td>8.109535</td>\n",
       "    </tr>\n",
       "    <tr>\n",
       "      <th>b</th>\n",
       "      <td>24.535704</td>\n",
       "      <td>4.103005</td>\n",
       "      <td>26.674615</td>\n",
       "      <td>52.510284</td>\n",
       "    </tr>\n",
       "    <tr>\n",
       "      <th>c</th>\n",
       "      <td>22.971556</td>\n",
       "      <td>85.334439</td>\n",
       "      <td>82.677296</td>\n",
       "      <td>96.087658</td>\n",
       "    </tr>\n",
       "    <tr>\n",
       "      <th>d</th>\n",
       "      <td>73.846319</td>\n",
       "      <td>97.561975</td>\n",
       "      <td>39.689321</td>\n",
       "      <td>22.356717</td>\n",
       "    </tr>\n",
       "  </tbody>\n",
       "</table>\n",
       "</div>"
      ],
      "text/plain": [
       "         one        two      three       four\n",
       "a  75.058235   4.815421   6.419869   8.109535\n",
       "b  24.535704   4.103005  26.674615  52.510284\n",
       "c  22.971556  85.334439  82.677296  96.087658\n",
       "d  73.846319  97.561975  39.689321  22.356717"
      ]
     },
     "execution_count": 10,
     "metadata": {},
     "output_type": "execute_result"
    }
   ],
   "source": [
    "df = pd.DataFrame(np.random.rand(16).reshape(4, 4)*100,\n",
    "                 index=['a','b','c','d'],\n",
    "                 columns=['one', 'two', 'three', 'four'])\n",
    "df"
   ]
  },
  {
   "cell_type": "code",
   "execution_count": 15,
   "metadata": {},
   "outputs": [
    {
     "data": {
      "text/html": [
       "<div>\n",
       "<style>\n",
       "    .dataframe thead tr:only-child th {\n",
       "        text-align: right;\n",
       "    }\n",
       "\n",
       "    .dataframe thead th {\n",
       "        text-align: left;\n",
       "    }\n",
       "\n",
       "    .dataframe tbody tr th {\n",
       "        vertical-align: top;\n",
       "    }\n",
       "</style>\n",
       "<table border=\"1\" class=\"dataframe\">\n",
       "  <thead>\n",
       "    <tr style=\"text-align: right;\">\n",
       "      <th></th>\n",
       "      <th>one</th>\n",
       "      <th>two</th>\n",
       "      <th>three</th>\n",
       "      <th>four</th>\n",
       "    </tr>\n",
       "  </thead>\n",
       "  <tbody>\n",
       "    <tr>\n",
       "      <th>d</th>\n",
       "      <td>73.846319</td>\n",
       "      <td>97.561975</td>\n",
       "      <td>39.689321</td>\n",
       "      <td>22.356717</td>\n",
       "    </tr>\n",
       "    <tr>\n",
       "      <th>c</th>\n",
       "      <td>22.971556</td>\n",
       "      <td>85.334439</td>\n",
       "      <td>82.677296</td>\n",
       "      <td>96.087658</td>\n",
       "    </tr>\n",
       "    <tr>\n",
       "      <th>a</th>\n",
       "      <td>75.058235</td>\n",
       "      <td>4.815421</td>\n",
       "      <td>6.419869</td>\n",
       "      <td>8.109535</td>\n",
       "    </tr>\n",
       "    <tr>\n",
       "      <th>b</th>\n",
       "      <td>24.535704</td>\n",
       "      <td>4.103005</td>\n",
       "      <td>26.674615</td>\n",
       "      <td>52.510284</td>\n",
       "    </tr>\n",
       "  </tbody>\n",
       "</table>\n",
       "</div>"
      ],
      "text/plain": [
       "         one        two      three       four\n",
       "d  73.846319  97.561975  39.689321  22.356717\n",
       "c  22.971556  85.334439  82.677296  96.087658\n",
       "a  75.058235   4.815421   6.419869   8.109535\n",
       "b  24.535704   4.103005  26.674615  52.510284"
      ]
     },
     "execution_count": 15,
     "metadata": {},
     "output_type": "execute_result"
    }
   ],
   "source": [
    "df2 = df.sort_values(['two'])\n",
    "df2"
   ]
  },
  {
   "cell_type": "code",
   "execution_count": 18,
   "metadata": {
    "collapsed": true
   },
   "outputs": [],
   "source": [
    "df3 = df.sort_values(['two'], ascending=False, inplace=True)\n",
    "df3"
   ]
  },
  {
   "cell_type": "code",
   "execution_count": 16,
   "metadata": {},
   "outputs": [
    {
     "data": {
      "text/html": [
       "<div>\n",
       "<style>\n",
       "    .dataframe thead tr:only-child th {\n",
       "        text-align: right;\n",
       "    }\n",
       "\n",
       "    .dataframe thead th {\n",
       "        text-align: left;\n",
       "    }\n",
       "\n",
       "    .dataframe tbody tr th {\n",
       "        vertical-align: top;\n",
       "    }\n",
       "</style>\n",
       "<table border=\"1\" class=\"dataframe\">\n",
       "  <thead>\n",
       "    <tr style=\"text-align: right;\">\n",
       "      <th></th>\n",
       "      <th>one</th>\n",
       "      <th>two</th>\n",
       "      <th>three</th>\n",
       "      <th>four</th>\n",
       "    </tr>\n",
       "  </thead>\n",
       "  <tbody>\n",
       "    <tr>\n",
       "      <th>a</th>\n",
       "      <td>75.058235</td>\n",
       "      <td>4.815421</td>\n",
       "      <td>6.419869</td>\n",
       "      <td>8.109535</td>\n",
       "    </tr>\n",
       "    <tr>\n",
       "      <th>b</th>\n",
       "      <td>24.535704</td>\n",
       "      <td>4.103005</td>\n",
       "      <td>26.674615</td>\n",
       "      <td>52.510284</td>\n",
       "    </tr>\n",
       "    <tr>\n",
       "      <th>c</th>\n",
       "      <td>22.971556</td>\n",
       "      <td>85.334439</td>\n",
       "      <td>82.677296</td>\n",
       "      <td>96.087658</td>\n",
       "    </tr>\n",
       "    <tr>\n",
       "      <th>d</th>\n",
       "      <td>73.846319</td>\n",
       "      <td>97.561975</td>\n",
       "      <td>39.689321</td>\n",
       "      <td>22.356717</td>\n",
       "    </tr>\n",
       "  </tbody>\n",
       "</table>\n",
       "</div>"
      ],
      "text/plain": [
       "         one        two      three       four\n",
       "a  75.058235   4.815421   6.419869   8.109535\n",
       "b  24.535704   4.103005  26.674615  52.510284\n",
       "c  22.971556  85.334439  82.677296  96.087658\n",
       "d  73.846319  97.561975  39.689321  22.356717"
      ]
     },
     "execution_count": 16,
     "metadata": {},
     "output_type": "execute_result"
    }
   ],
   "source": [
    "df4 = df.sort_index()\n",
    "df4"
   ]
  },
  {
   "attachments": {
    "image.png": {
     "image/png": "[encoded data removed]"
    }
   },
   "cell_type": "markdown",
   "metadata": {},
   "source": [
    "作业2：创建一个5*2，值在0-100区间随机值的Dataframe（如图）df1，通过修改得到df2\n",
    "![image.png](attachment:image.png)"
   ]
  },
  {
   "cell_type": "code",
   "execution_count": 20,
   "metadata": {},
   "outputs": [
    {
     "data": {
      "text/html": [
       "<div>\n",
       "<style>\n",
       "    .dataframe thead tr:only-child th {\n",
       "        text-align: right;\n",
       "    }\n",
       "\n",
       "    .dataframe thead th {\n",
       "        text-align: left;\n",
       "    }\n",
       "\n",
       "    .dataframe tbody tr th {\n",
       "        vertical-align: top;\n",
       "    }\n",
       "</style>\n",
       "<table border=\"1\" class=\"dataframe\">\n",
       "  <thead>\n",
       "    <tr style=\"text-align: right;\">\n",
       "      <th></th>\n",
       "      <th>v1</th>\n",
       "      <th>v2</th>\n",
       "    </tr>\n",
       "  </thead>\n",
       "  <tbody>\n",
       "    <tr>\n",
       "      <th>a</th>\n",
       "      <td>98.369425</td>\n",
       "      <td>48.475861</td>\n",
       "    </tr>\n",
       "    <tr>\n",
       "      <th>b</th>\n",
       "      <td>47.918876</td>\n",
       "      <td>58.936418</td>\n",
       "    </tr>\n",
       "    <tr>\n",
       "      <th>c</th>\n",
       "      <td>38.245938</td>\n",
       "      <td>52.436017</td>\n",
       "    </tr>\n",
       "    <tr>\n",
       "      <th>d</th>\n",
       "      <td>10.547089</td>\n",
       "      <td>41.034824</td>\n",
       "    </tr>\n",
       "    <tr>\n",
       "      <th>e</th>\n",
       "      <td>76.893732</td>\n",
       "      <td>26.712618</td>\n",
       "    </tr>\n",
       "  </tbody>\n",
       "</table>\n",
       "</div>"
      ],
      "text/plain": [
       "          v1         v2\n",
       "a  98.369425  48.475861\n",
       "b  47.918876  58.936418\n",
       "c  38.245938  52.436017\n",
       "d  10.547089  41.034824\n",
       "e  76.893732  26.712618"
      ]
     },
     "execution_count": 20,
     "metadata": {},
     "output_type": "execute_result"
    }
   ],
   "source": [
    "df = pd.DataFrame(np.random.rand(5, 2)*100, \n",
    "                 columns = ['v1', 'v2'],\n",
    "                 index = ['a', 'b', 'c', 'd', 'e'])\n",
    "df"
   ]
  },
  {
   "cell_type": "code",
   "execution_count": 21,
   "metadata": {},
   "outputs": [
    {
     "data": {
      "text/html": [
       "<div>\n",
       "<style>\n",
       "    .dataframe thead tr:only-child th {\n",
       "        text-align: right;\n",
       "    }\n",
       "\n",
       "    .dataframe thead th {\n",
       "        text-align: left;\n",
       "    }\n",
       "\n",
       "    .dataframe tbody tr th {\n",
       "        vertical-align: top;\n",
       "    }\n",
       "</style>\n",
       "<table border=\"1\" class=\"dataframe\">\n",
       "  <thead>\n",
       "    <tr style=\"text-align: right;\">\n",
       "      <th></th>\n",
       "      <th>a</th>\n",
       "      <th>b</th>\n",
       "      <th>c</th>\n",
       "      <th>d</th>\n",
       "      <th>e</th>\n",
       "    </tr>\n",
       "  </thead>\n",
       "  <tbody>\n",
       "    <tr>\n",
       "      <th>v1</th>\n",
       "      <td>98.369425</td>\n",
       "      <td>47.918876</td>\n",
       "      <td>38.245938</td>\n",
       "      <td>10.547089</td>\n",
       "      <td>76.893732</td>\n",
       "    </tr>\n",
       "    <tr>\n",
       "      <th>v2</th>\n",
       "      <td>48.475861</td>\n",
       "      <td>58.936418</td>\n",
       "      <td>52.436017</td>\n",
       "      <td>41.034824</td>\n",
       "      <td>26.712618</td>\n",
       "    </tr>\n",
       "  </tbody>\n",
       "</table>\n",
       "</div>"
      ],
      "text/plain": [
       "            a          b          c          d          e\n",
       "v1  98.369425  47.918876  38.245938  10.547089  76.893732\n",
       "v2  48.475861  58.936418  52.436017  41.034824  26.712618"
      ]
     },
     "execution_count": 21,
     "metadata": {},
     "output_type": "execute_result"
    }
   ],
   "source": [
    "df.T"
   ]
  },
  {
   "attachments": {
    "image.png": {
     "image/png": "[encoded data removed]"
    }
   },
   "cell_type": "markdown",
   "metadata": {},
   "source": [
    "作业3：如图创建Series，并按照要求修改得到结果\n",
    "![image.png](attachment:image.png)"
   ]
  },
  {
   "cell_type": "code",
   "execution_count": 29,
   "metadata": {},
   "outputs": [
    {
     "data": {
      "text/plain": [
       "a    100\n",
       "b      1\n",
       "c      2\n",
       "d      3\n",
       "e    100\n",
       "f    100\n",
       "g      6\n",
       "h      7\n",
       "i      8\n",
       "j      9\n",
       "dtype: int32"
      ]
     },
     "execution_count": 29,
     "metadata": {},
     "output_type": "execute_result"
    }
   ],
   "source": [
    "s = pd.Series(np.arange(10), index=['a', 'b', 'c', 'd', 'e', 'f', 'g', 'h', 'i', 'j'])\n",
    "s\n",
    "s.loc[['a', 'e', 'f']] =100\n",
    "s"
   ]
  },
  {
   "cell_type": "code",
   "execution_count": 32,
   "metadata": {},
   "outputs": [
    {
     "data": {
      "text/plain": [
       "a    100\n",
       "b      1\n",
       "c    100\n",
       "d    100\n",
       "e    100\n",
       "f    100\n",
       "g      6\n",
       "h      7\n",
       "i      8\n",
       "j      9\n",
       "dtype: int32"
      ]
     },
     "execution_count": 32,
     "metadata": {},
     "output_type": "execute_result"
    }
   ],
   "source": [
    "s.iloc[[2, 3]]=100\n",
    "s"
   ]
  },
  {
   "attachments": {
    "image.png": {
     "image/png": "[encoded data removed]"
    }
   },
   "cell_type": "markdown",
   "metadata": {},
   "source": [
    "作业4：已有s1，s2（值为0-10的随机数），请求出s1+s2的值\n",
    "* s1 = pd.Series(np.random.rand(5)*10,index = list('abcde'))\n",
    "* s2 = pd.Series(np.random.rand(5)*10,index = list('cdefg'))\n",
    "![image.png](attachment:image.png)"
   ]
  },
  {
   "cell_type": "code",
   "execution_count": 35,
   "metadata": {},
   "outputs": [
    {
     "data": {
      "text/plain": [
       "a    9.607756\n",
       "b    9.404844\n",
       "c    4.324262\n",
       "d    6.883030\n",
       "e    2.551035\n",
       "dtype: float64"
      ]
     },
     "execution_count": 35,
     "metadata": {},
     "output_type": "execute_result"
    }
   ],
   "source": [
    "s1 = pd.Series(np.random.rand(5)*10, index = list('abcde'))\n",
    "s1"
   ]
  },
  {
   "cell_type": "code",
   "execution_count": 36,
   "metadata": {},
   "outputs": [
    {
     "data": {
      "text/plain": [
       "c    3.447010\n",
       "d    8.868435\n",
       "e    3.656300\n",
       "f    0.940102\n",
       "g    6.262146\n",
       "dtype: float64"
      ]
     },
     "execution_count": 36,
     "metadata": {},
     "output_type": "execute_result"
    }
   ],
   "source": [
    "s2 = pd.Series(np.random.rand(5)*10, index = list('cdefg'))\n",
    "s2"
   ]
  },
  {
   "cell_type": "code",
   "execution_count": 38,
   "metadata": {},
   "outputs": [
    {
     "data": {
      "text/plain": [
       "a          NaN\n",
       "b          NaN\n",
       "c     7.771272\n",
       "d    15.751466\n",
       "e     6.207335\n",
       "f          NaN\n",
       "g          NaN\n",
       "dtype: float64"
      ]
     },
     "execution_count": 38,
     "metadata": {},
     "output_type": "execute_result"
    }
   ],
   "source": [
    "s1+s2 # 只有全都有值才能相加 ，否则为0"
   ]
  },
  {
   "cell_type": "code",
   "execution_count": null,
   "metadata": {
    "collapsed": true
   },
   "outputs": [],
   "source": []
  }
 ],
 "metadata": {
  "anaconda-cloud": {},
  "kernelspec": {
   "display_name": "Python [conda env:tf1]",
   "language": "python",
   "name": "conda-env-tf1-py"
  },
  "language_info": {
   "codemirror_mode": {
    "name": "ipython",
    "version": 3
   },
   "file_extension": ".py",
   "mimetype": "text/x-python",
   "name": "python",
   "nbconvert_exporter": "python",
   "pygments_lexer": "ipython3",
   "version": "3.6.9"
  },
  "toc": {
   "base_numbering": 1,
   "nav_menu": {},
   "number_sections": true,
   "sideBar": true,
   "skip_h1_title": false,
   "title_cell": "Table of Contents",
   "title_sidebar": "Contents",
   "toc_cell": false,
   "toc_position": {},
   "toc_section_display": true,
   "toc_window_display": false
  }
 },
 "nbformat": 4,
 "nbformat_minor": 1
}
