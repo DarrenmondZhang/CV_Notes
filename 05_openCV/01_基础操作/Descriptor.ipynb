{
 "cells": [
  {
   "cell_type": "code",
   "execution_count": 1,
   "metadata": {},
   "outputs": [],
   "source": [
    "import cv2\n",
    "import numpy as np"
   ]
  },
  {
   "cell_type": "code",
   "execution_count": 2,
   "metadata": {},
   "outputs": [],
   "source": [
    "img = cv2.imread('lenna.jpg')\n",
    "cv2.imshow('lenna', img)\n",
    "key = cv2.waitKey()\n",
    "if key == 27:\n",
    "    cv2.destroyAllWindows()"
   ]
  },
  {
   "cell_type": "code",
   "execution_count": 3,
   "metadata": {},
   "outputs": [],
   "source": [
    "def show(img, name):\n",
    "    cv2.imshow(\"%s\" %(name), img)\n",
    "    key = cv2.waitKey()\n",
    "    if key == 27:\n",
    "        cv2.destroyAllWindows()"
   ]
  },
  {
   "cell_type": "markdown",
   "metadata": {},
   "source": [
    "# Gaussian Kernel Effect"
   ]
  },
  {
   "cell_type": "code",
   "execution_count": 4,
   "metadata": {},
   "outputs": [],
   "source": [
    "g_img = cv2.GaussianBlur(img, (7, 7), 5)\n",
    "show(g_img, name='gaussian_lenna')"
   ]
  },
  {
   "cell_type": "code",
   "execution_count": 5,
   "metadata": {},
   "outputs": [],
   "source": [
    "# 图像变更模糊，因为范围更大，平均效果更明显\n",
    "g_img = cv2.GaussianBlur(img, (17, 17), 5)\n",
    "show(g_img, name='gaussian_lenna2')"
   ]
  },
  {
   "cell_type": "code",
   "execution_count": 6,
   "metadata": {},
   "outputs": [],
   "source": [
    "# 图像更清晰，因为方差更小，高斯图像更尖锐，中心点起的作用更大\n",
    "g_img = cv2.GaussianBlur(img,(7,7),1)\n",
    "show(g_img, name='gaussian_lenna3')"
   ]
  },
  {
   "cell_type": "code",
   "execution_count": 7,
   "metadata": {},
   "outputs": [
    {
     "name": "stdout",
     "output_type": "stream",
     "text": [
      "[[0.12895603]\n",
      " [0.14251846]\n",
      " [0.15133131]\n",
      " [0.1543884 ]\n",
      " [0.15133131]\n",
      " [0.14251846]\n",
      " [0.12895603]]\n"
     ]
    }
   ],
   "source": [
    "# 来看看高斯核\n",
    "kernel = cv2.getGaussianKernel(7, 5)\n",
    "print(kernel)"
   ]
  },
  {
   "cell_type": "code",
   "execution_count": 8,
   "metadata": {},
   "outputs": [],
   "source": [
    "# 为啥一维，因为一维运算快\n",
    "# 理论解释\n",
    "# 用显式地代码看隐式地高斯和显示地分步高斯地效果\n",
    "g1_img = cv2.GaussianBlur(img,(7,7),5)\n",
    "g2_img = cv2.sepFilter2D(img, -1, kernel, kernel) # ori, depth, kernelX, kernelY\n",
    "show(g1_img, name='g1_blur_lenna')\n",
    "show(g2_img, name='g2_blur_lenna')"
   ]
  },
  {
   "cell_type": "markdown",
   "metadata": {},
   "source": [
    "# 2nd derivative: laplacian （双边缘效果）"
   ]
  },
  {
   "cell_type": "code",
   "execution_count": 9,
   "metadata": {},
   "outputs": [],
   "source": [
    "kernel_lap = np.array([[0, 1, 0], [1, -4, 1], [0, 1, 0]], np.float32)\n",
    "lap_img = cv2.filter2D(img, -1, kernel=kernel_lap)\n",
    "show(lap_img, name='lap_lenna')"
   ]
  },
  {
   "cell_type": "markdown",
   "metadata": {},
   "source": [
    "# 图像锐化 = edge+ori"
   ]
  },
  {
   "cell_type": "code",
   "execution_count": 10,
   "metadata": {},
   "outputs": [],
   "source": [
    "# app: sharpen\n",
    "# 图像+edge=更锐利地图像，因为突出边缘\n",
    "kernel_sharp = np.array([[0, 1, 0],[1, -3, 1],[0, 1, 0]], np.float32)\n",
    "sharp_img = cv2.filter2D(img, -1, kernel=kernel_sharp)\n",
    "show(sharp_img, name='sharp_lenna')"
   ]
  },
  {
   "cell_type": "markdown",
   "metadata": {},
   "source": [
    "> 这样不对，因为，周围有4个1，中间是-3，虽然有边缘效果，但是周围的1会使得原kernel有滤波效果，使图像模糊；\n",
    "\\begin{bmatrix}\n",
    "0 & 1 & 0 \\\\ \n",
    "1 & -3 & 1 \\\\\n",
    "0 & 1 & 0\n",
    "\\end{bmatrix}\n",
    "\n",
    "解决：所以取`kernel_sharp` 的相反数，再加上原图像，这样突出了中心像素，效果类似于小方差的高斯，所以可以既有边缘效果，又保留图像清晰度"
   ]
  },
  {
   "cell_type": "code",
   "execution_count": 11,
   "metadata": {},
   "outputs": [],
   "source": [
    "kernel_sharp2 = np.array([[0, -1, 0], [-1, 5, -1], [0, -1, 0]], np.float32)\n",
    "sharp_img2 = cv2.filter2D(img, -1, kernel=kernel_sharp2)\n",
    "show(sharp_img2, name='sharp_img2')"
   ]
  },
  {
   "cell_type": "markdown",
   "metadata": {},
   "source": [
    "\\begin{bmatrix}\n",
    "0 & -1 & 0 \\\\ \n",
    "-1 & 5 & -1 \\\\\n",
    "0 & -1 & 0\n",
    "\\end{bmatrix}"
   ]
  },
  {
   "cell_type": "code",
   "execution_count": 12,
   "metadata": {},
   "outputs": [],
   "source": [
    "# 更“凶猛”的边缘效果\n",
    "# 不仅考虑x-y方向上的梯度，同时考虑了对角线方向上的梯度\n",
    "kernel_sharp = np.array([[1, 1, 1], [1, -8, 1], [1, 1, 1]], np.float32) \n",
    "sharp_img3 = cv2.filter2D(img, -1, kernel=kernel_sharp2)\n",
    "show(sharp_img3, name='sharp_img3')"
   ]
  },
  {
   "cell_type": "markdown",
   "metadata": {},
   "source": [
    "\\begin{bmatrix}\n",
    "1 & 1 & 1 \\\\ \n",
    "1 & -8 & 1 \\\\\n",
    "1 & 1 & 1\n",
    "\\end{bmatrix}"
   ]
  },
  {
   "cell_type": "code",
   "execution_count": 13,
   "metadata": {},
   "outputs": [],
   "source": [
    "######## Edge #########\n",
    "# x轴\n",
    "edgex = np.array([[-1, -2, -1], [0, 0, 0], [1, 2, 1]], np.float32)\n",
    "sharp_img4 = cv2.filter2D(img, -1, kernel=edgex)\n",
    "\n",
    "# y轴\n",
    "edgey = np.array([[-1, 0, -1], [-2, 0, 2], [-1, 0, 1]], np.float32)\n",
    "sharp_img5 = cv2.filter2D(img, -1, kernel=edgey)\n",
    "show(sharp_img4, name='edgex_lenna')\n",
    "show(sharp_img5, name='edgey_lenna')"
   ]
  },
  {
   "cell_type": "markdown",
   "metadata": {},
   "source": [
    "# 角点\n",
    "* 关于角点的具体描述可以有几种：\n",
    "    * 一阶导数(即灰度的梯度)的局部最大所对应的像素点；\n",
    "    * 两条及两条以上边缘的交点；\n",
    "    * 图像中梯度值和梯度方向的变化速率都很高的点；\n",
    "    * 角点处的一阶导数最大，二阶导数为零，指示物体边缘变化不连续的方向。\n",
    " "
   ]
  },
  {
   "cell_type": "code",
   "execution_count": 14,
   "metadata": {},
   "outputs": [
    {
     "name": "stdout",
     "output_type": "stream",
     "text": [
      "[[ 72.  72.  72. ...  84.  84.  85.]\n",
      " [ 72.  72.  72. ...  84.  84.  83.]\n",
      " [ 72.  72.  73. ...  84.  84.  83.]\n",
      " ...\n",
      " [ 78.  77.  76. ... 212. 209. 197.]\n",
      " [113. 113. 105. ... 183. 193. 195.]\n",
      " [138. 155. 166. ... 184. 189. 201.]]\n",
      "[[-4.8828126e-05 -4.8828126e-05 -7.8125007e-04 ...  0.0000000e+00\n",
      "  -7.8125001e-04  8.5937493e-03]\n",
      " [-4.8828126e-05 -4.8828126e-05 -7.8125007e-04 ...  0.0000000e+00\n",
      "  -7.8125001e-04  8.5937493e-03]\n",
      " [ 2.8808583e-03  2.8808583e-03 -2.8124999e-02 ...  0.0000000e+00\n",
      "   1.2500000e-02  4.9999997e-02]\n",
      " ...\n",
      " [-2.0191997e+05 -2.0191997e+05 -2.2554295e+05 ...  3.5981750e+04\n",
      "   4.9593257e+03 -2.4209869e+02]\n",
      " [-4.1817806e+05 -4.1817806e+05 -6.3627319e+05 ... -6.2683984e+03\n",
      "  -7.2688477e+02  1.8453979e+02]\n",
      " [-2.9089394e+05 -2.9089394e+05 -3.8480744e+05 ...  3.1061951e+04\n",
      "   1.6351560e+04  3.3497617e+03]]\n"
     ]
    }
   ],
   "source": [
    "img = cv2.imread('tower.jpg')\n",
    "img = cv2.resize(img, (640, 480))\n",
    "img_gray = np.float32(cv2.cvtColor(img, cv2.COLOR_BGR2GRAY))\n",
    "print(img_gray)\n",
    "\n",
    "img_harris = cv2.cornerHarris(img_gray, 2, 3, 0.05)    # 2： blockSize: window size; 3: Sobel kernel size\n",
    "show(img_harris, name='img_harris ')\n",
    "\n",
    "# 没法看原因：1. float类型； 2. img_harris本质上是每个pixel对于Harris函数的响应值\n",
    "# 没有看的价值\n",
    "print(img_harris)\n",
    "\n",
    "# 为了显示清楚\n",
    "# img_harris = cv2.dilate(img_harris , None)\n",
    "\n",
    "thres = 0.05 * np.max(img_harris)\n",
    "img[img_harris > thres] = [0, 0, 255]\n",
    "show(img, name='img_harris')"
   ]
  },
  {
   "cell_type": "markdown",
   "metadata": {},
   "source": [
    "# SIFT"
   ]
  },
  {
   "cell_type": "code",
   "execution_count": 15,
   "metadata": {},
   "outputs": [
    {
     "name": "stdout",
     "output_type": "stream",
     "text": [
      "(1373, 128)\n"
     ]
    }
   ],
   "source": [
    "########### SIFT ###########\n",
    "img = cv2.imread('lenna.jpg')\n",
    "# create sift class\n",
    "sift = cv2.xfeatures2d.SIFT_create()\n",
    "# detect SIFT\n",
    "kp = sift.detect(img,None)   # None for mask\n",
    "# compute SIFT descriptor\n",
    "kp, des = sift.compute(img,kp)\n",
    "print(des.shape)\n",
    "img_sift= cv2.drawKeypoints(img,kp,outImage=np.array([]), flags=cv2.DRAW_MATCHES_FLAGS_DRAW_RICH_KEYPOINTS)\n",
    "show(img_sift, name='lenna_sift.jpg')"
   ]
  },
  {
   "cell_type": "markdown",
   "metadata": {},
   "source": [
    "SIFT算法被申请了专利，将opencv版本退到3.4.2即可解决，卸载之前的包，然后\n",
    "```shell\n",
    "pip install opencv-python == 3.4.2.16\n",
    "pip install opencv-contrib-python == 3.4.2.16\n",
    "```"
   ]
  },
  {
   "cell_type": "code",
   "execution_count": null,
   "metadata": {},
   "outputs": [],
   "source": []
  }
 ],
 "metadata": {
  "kernelspec": {
   "display_name": "Python 3",
   "language": "python",
   "name": "python3"
  },
  "language_info": {
   "codemirror_mode": {
    "name": "ipython",
    "version": 3
   },
   "file_extension": ".py",
   "mimetype": "text/x-python",
   "name": "python",
   "nbconvert_exporter": "python",
   "pygments_lexer": "ipython3",
   "version": "3.7.3"
  },
  "toc-autonumbering": true
 },
 "nbformat": 4,
 "nbformat_minor": 4
}
