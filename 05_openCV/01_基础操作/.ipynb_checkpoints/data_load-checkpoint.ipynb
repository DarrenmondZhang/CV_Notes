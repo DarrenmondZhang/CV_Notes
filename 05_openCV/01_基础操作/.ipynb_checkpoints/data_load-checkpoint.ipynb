{
 "cells": [
  {
   "cell_type": "markdown",
   "metadata": {},
   "source": [
    "# import necessary package"
   ]
  },
  {
   "cell_type": "code",
   "execution_count": 1,
   "metadata": {},
   "outputs": [],
   "source": [
    "import cv2\n",
    "import random\n",
    "import numpy as np\n",
    "from matplotlib import pyplot as plt"
   ]
  },
  {
   "cell_type": "markdown",
   "metadata": {},
   "source": [
    "# Show Image"
   ]
  },
  {
   "cell_type": "code",
   "execution_count": 2,
   "metadata": {},
   "outputs": [],
   "source": [
    "img_grey = cv2.imread('lenna.jpg' ,0)\n",
    "cv2.imshow('lenna', img_grey)\n",
    "\n",
    "key = cv2.waitKey()\n",
    "if key == 27:\n",
    "    cv2.destroyAllWindows()\n",
    "                      "
   ]
  },
  {
   "cell_type": "code",
   "execution_count": 3,
   "metadata": {},
   "outputs": [
    {
     "name": "stdout",
     "output_type": "stream",
     "text": [
      "[[174 176 177 ... 184 162 132]\n",
      " [175 176 177 ... 189 164 130]\n",
      " [176 176 177 ... 187 163 125]\n",
      " ...\n",
      " [ 12  17  22 ...  95  95  92]\n",
      " [  9  16  24 ...  96  98 102]\n",
      " [  9  17  26 ...  91  94 103]]\n"
     ]
    }
   ],
   "source": [
    "# to show gray image matrix\n",
    "print(img_grey)"
   ]
  },
  {
   "cell_type": "code",
   "execution_count": 4,
   "metadata": {},
   "outputs": [
    {
     "name": "stdout",
     "output_type": "stream",
     "text": [
      "uint8\n"
     ]
    }
   ],
   "source": [
    "# to show image data shape\n",
    "print(img_grey.dtype)"
   ]
  },
  {
   "cell_type": "code",
   "execution_count": 5,
   "metadata": {},
   "outputs": [
    {
     "name": "stdout",
     "output_type": "stream",
     "text": [
      "(512, 512)\n"
     ]
    }
   ],
   "source": [
    "# to show gray image shape\n",
    "print(img_grey.shape) # 图像大小"
   ]
  },
  {
   "cell_type": "code",
   "execution_count": 6,
   "metadata": {},
   "outputs": [],
   "source": [
    "# 查看原始图像\n",
    "img_ori = cv2.imread('lenna.jpg')\n",
    "cv2.imshow('lenna', img_ori)\n",
    "\n",
    "key = cv2.waitKey()\n",
    "if key == 27:\n",
    "    cv2.destroyAllWindows()"
   ]
  },
  {
   "cell_type": "code",
   "execution_count": 7,
   "metadata": {},
   "outputs": [
    {
     "name": "stdout",
     "output_type": "stream",
     "text": [
      "[[[135 159 219]\n",
      "  [137 161 221]\n",
      "  [136 161 223]\n",
      "  ...\n",
      "  [117 169 240]\n",
      "  [ 91 146 219]\n",
      "  [ 59 116 191]]\n",
      "\n",
      " [[136 160 220]\n",
      "  [135 161 221]\n",
      "  [136 161 223]\n",
      "  ...\n",
      "  [125 174 242]\n",
      "  [ 97 149 219]\n",
      "  [ 61 115 186]]\n",
      "\n",
      " [[135 160 222]\n",
      "  [133 161 222]\n",
      "  [134 162 223]\n",
      "  ...\n",
      "  [130 173 236]\n",
      "  [103 149 213]\n",
      "  [ 65 111 175]]\n",
      "\n",
      " ...\n",
      "\n",
      " [[  5  12  15]\n",
      "  [ 10  17  20]\n",
      "  [ 13  22  26]\n",
      "  ...\n",
      "  [ 51  76 148]\n",
      "  [ 47  74 154]\n",
      "  [ 41  71 152]]\n",
      "\n",
      " [[  2   9  12]\n",
      "  [  9  16  19]\n",
      "  [ 15  24  28]\n",
      "  ...\n",
      "  [ 50  76 152]\n",
      "  [ 48  76 160]\n",
      "  [ 49  80 165]]\n",
      "\n",
      " [[  2   9  12]\n",
      "  [ 10  17  20]\n",
      "  [ 17  26  30]\n",
      "  ...\n",
      "  [ 45  71 148]\n",
      "  [ 43  72 157]\n",
      "  [ 50  80 167]]]\n",
      "(512, 512, 3)\n"
     ]
    }
   ],
   "source": [
    "# to show color image\n",
    "print(img_ori)\n",
    "# to show channels\n",
    "print(img_ori.shape)"
   ]
  },
  {
   "cell_type": "markdown",
   "metadata": {},
   "source": [
    "# Image Crop"
   ]
  },
  {
   "cell_type": "code",
   "execution_count": 8,
   "metadata": {},
   "outputs": [],
   "source": [
    "img_crop = img_ori[0:100, 0:200]\n",
    "cv2.imshow('img_crop', img_crop)\n",
    "key = cv2.waitKey()\n",
    "if key == 27:\n",
    "    cv2.destroyAllWindows()"
   ]
  },
  {
   "cell_type": "markdown",
   "metadata": {},
   "source": [
    "# Image Split "
   ]
  },
  {
   "cell_type": "code",
   "execution_count": 9,
   "metadata": {},
   "outputs": [],
   "source": [
    "B, G, R = cv2.split(img_ori)\n",
    "cv2.imshow('B', B)\n",
    "cv2.imshow('G', G)\n",
    "cv2.imshow('R', R)\n",
    "\n",
    "key = cv2.waitKey()\n",
    "if key == 27:\n",
    "    cv2.destroyAllWindows()"
   ]
  },
  {
   "cell_type": "markdown",
   "metadata": {},
   "source": [
    "# Change Color"
   ]
  },
  {
   "cell_type": "code",
   "execution_count": 10,
   "metadata": {},
   "outputs": [],
   "source": [
    "def random_light_color(img):\n",
    "    \"\"\"\n",
    "        随机改变各个波段的灰度值，达到改变颜色的目的\n",
    "    \"\"\"\n",
    "    # brightness\n",
    "    B, G, R = cv2.split(img)\n",
    "    \n",
    "    b_rand =random.randint(-50, 50)\n",
    "    if b_rand == 0:\n",
    "        pass\n",
    "    elif b_rand > 0:\n",
    "        lim = 255 - b_rand\n",
    "        B[B > lim] = 255\n",
    "        B[B <= lim] = (b_rand + B[B <= lim]).astype(img.dtype)\n",
    "    elif b_rand < 0:\n",
    "        lim = 0 - b_rand\n",
    "        B[B < lim] = 0\n",
    "        B[B >= lim] = (b_rand + B[B >= lim]).astype(img.dtype)\n",
    "        \n",
    "    g_rand = random.randint(-50, 50)\n",
    "    if g_rand == 0:\n",
    "        pass\n",
    "    elif g_rand > 0:\n",
    "        lim = 255 - g_rand\n",
    "        G[G > lim] = 255\n",
    "        G[G <= lim] = (g_rand + G[G <= lim]).astype(img.dtype)\n",
    "    elif g_rand < 0:\n",
    "        lim = 0 - g_rand\n",
    "        G[G < lim] = 0\n",
    "        G[G >= lim] = (g_rand + G[G >= lim]).astype(img.dtype)\n",
    "    \n",
    "    r_rand = random.randint(-50, 50)\n",
    "    if r_rand == 0:\n",
    "        pass\n",
    "    elif r_rand > 0:\n",
    "        lim = 255 - r_rand\n",
    "        R[R > lim] = 255\n",
    "        R[R <= lim] = (r_rand + R[R <= lim]).astype(img.dtype)\n",
    "    elif r_rand < 0:\n",
    "        lim = 0 - r_rand\n",
    "        R[R < lim] = 0\n",
    "        R[R >= lim] = (r_rand + R[R >= lim]).astype(img.dtype)\n",
    "    \n",
    "    img_merge = cv2.merge((B, G, R))    \n",
    "    return img_merge"
   ]
  },
  {
   "cell_type": "code",
   "execution_count": 11,
   "metadata": {},
   "outputs": [],
   "source": [
    "img_random_color = random_light_color(img_ori)\n",
    "cv2.imshow('img_random_color', img_random_color)\n",
    "key = cv2.waitKey()\n",
    "if key == 27:\n",
    "    cv2.destroyAllWindows()"
   ]
  },
  {
   "cell_type": "markdown",
   "metadata": {},
   "source": [
    "#  gamma correction 伽马校正"
   ]
  },
  {
   "cell_type": "code",
   "execution_count": 12,
   "metadata": {},
   "outputs": [],
   "source": [
    "img_dark = cv2.imread('lenna.jpg')\n",
    "cv2.imshow('img_dark', img_dark)\n",
    "key = cv2.waitKey()\n",
    "if key == 27:\n",
    "    cv2.destroyAllWindows()"
   ]
  },
  {
   "cell_type": "code",
   "execution_count": 13,
   "metadata": {},
   "outputs": [],
   "source": [
    "def adjust_gamma(image, gamma=1.0):\n",
    "    invGamma = 1.0/gamma\n",
    "    table = []\n",
    "    for i in range(256):\n",
    "        table.append(((i / 255.0) ** invGamma) * 255)\n",
    "    table = np.array(table).astype(\"uint8\")\n",
    "    return cv2.LUT(img_dark, table)"
   ]
  },
  {
   "cell_type": "code",
   "execution_count": 14,
   "metadata": {},
   "outputs": [],
   "source": [
    "img_brighter = adjust_gamma(img_dark, 2)\n",
    "cv2.imshow('img_dark', img_dark)\n",
    "cv2.imshow('img_brighter', img_brighter)\n",
    "key = cv2.waitKey()\n",
    "if key == 27:\n",
    "    cv2.destroyAllWindows()"
   ]
  },
  {
   "cell_type": "markdown",
   "metadata": {},
   "source": [
    "# histogram 直方图"
   ]
  },
  {
   "cell_type": "code",
   "execution_count": 15,
   "metadata": {},
   "outputs": [
    {
     "data": {
      "image/png": "[encoded data removed]",
      "text/plain": [
       "<Figure size 432x288 with 1 Axes>"
      ]
     },
     "metadata": {
      "needs_background": "light"
     },
     "output_type": "display_data"
    }
   ],
   "source": [
    "img_small_brighter = cv2.resize(img_brighter, (int(img_brighter.shape[0]*0.5), int(img_brighter.shape[1]*0.5)))\n",
    "plt.hist(img_brighter.flatten(), 256, [0, 256], color='r')\n",
    "img_yuv = cv2.cvtColor(img_small_brighter, cv2.COLOR_BGR2YUV)"
   ]
  },
  {
   "cell_type": "code",
   "execution_count": 16,
   "metadata": {},
   "outputs": [],
   "source": [
    "# equalize the histogram of the Y channel 均衡Y通道的直方图\n",
    "img_yuv[:, :, 0] = cv2.equalizeHist(img_yuv[:, :, 0]) # only for 1 channel"
   ]
  },
  {
   "cell_type": "code",
   "execution_count": 17,
   "metadata": {},
   "outputs": [],
   "source": [
    "# convert the YUV image back to RGB format 将YUV图像转换回RGB格式\n",
    "img_output = cv2.cvtColor(img_yuv, cv2.COLOR_YUV2BGR)\n",
    "cv2.imshow('Color input image', img_small_brighter)\n",
    "cv2.imshow('Histogram equalized', img_output)\n",
    "key = cv2.waitKey()\n",
    "if key == 27:\n",
    "    cv2.destroyAllWindows()"
   ]
  },
  {
   "cell_type": "markdown",
   "metadata": {},
   "source": [
    "# rotation"
   ]
  },
  {
   "cell_type": "code",
   "execution_count": 18,
   "metadata": {},
   "outputs": [],
   "source": [
    "M = cv2.getRotationMatrix2D((img_ori.shape[1] / 2, img_ori.shape[0] / 2), 30, 1) # center, angle, scale\n",
    "img_rotate = cv2.warpAffine(img_ori, M, (img_ori.shape[1], img_ori.shape[0]))\n",
    "cv2.imshow('rotated lenna', img_rotate)\n",
    "key = cv2.waitKey()\n",
    "if key == 27:\n",
    "    cv2.destroyAllWindows()"
   ]
  },
  {
   "cell_type": "code",
   "execution_count": 19,
   "metadata": {},
   "outputs": [
    {
     "name": "stdout",
     "output_type": "stream",
     "text": [
      "[[  0.8660254    0.5        -93.70250337]\n",
      " [ -0.5          0.8660254  162.29749663]]\n"
     ]
    }
   ],
   "source": [
    "# set M[0][2] = M[1][2] = 0\n",
    "print(M)\n",
    "img_rotate2 = cv2.warpAffine(img_ori, M, (img_ori.shape[1], img_ori.shape[0]))\n",
    "cv2.imshow('rotated lenna2', img_rotate2)\n",
    "key == cv2.waitKey()\n",
    "if key == 27:\n",
    "    cv2.destroyAllWindows()"
   ]
  },
  {
   "cell_type": "code",
   "execution_count": 21,
   "metadata": {},
   "outputs": [
    {
     "name": "stdout",
     "output_type": "stream",
     "text": [
      "[[  0.4330127    0.25        81.14874832]\n",
      " [ -0.25         0.4330127  209.14874832]]\n"
     ]
    }
   ],
   "source": [
    "# scale+rotation+translation = similarity transform\n",
    "M = cv2.getRotationMatrix2D((img_ori.shape[1] / 2, img_ori.shape[0] / 2), 30, 0.5) # center, angle, scale\n",
    "img_rotate = cv2.warpAffine(img_ori, M, (img_ori.shape[1], img_ori.shape[0]))\n",
    "cv2.imshow('rotated lenna', img_rotate)\n",
    "key = cv2.waitKey(0)\n",
    "if key == 27:\n",
    "    cv2.destroyAllWindows()\n",
    "\n",
    "print(M)"
   ]
  },
  {
   "cell_type": "markdown",
   "metadata": {},
   "source": [
    "# Affine Transform  仿射变换\n"
   ]
  },
  {
   "cell_type": "code",
   "execution_count": 22,
   "metadata": {},
   "outputs": [],
   "source": [
    "rows, cols, ch = img_ori.shape\n",
    "pts1 = np.float32([[0, 0], [cols - 1, 0], [0, rows - 1]])\n",
    "pts2 = np.float32([[cols * 0.2, rows * 0.1], [cols * 0.9, rows * 0.2], [cols * 0.1, rows * 0.9]])\n",
    "\n",
    "M = cv2.getAffineTransform(pts1, pts2)\n",
    "dst = cv2.warpAffine(img_ori, M, (cols, rows))\n",
    "cv2.imshow('affine lenna', dst)\n",
    "key = cv2.waitKey()\n",
    "if key == 27:\n",
    "    cv2.destroyAllWindows()"
   ]
  },
  {
   "cell_type": "markdown",
   "metadata": {},
   "source": [
    "# perspective transform\n"
   ]
  },
  {
   "cell_type": "code",
   "execution_count": 27,
   "metadata": {},
   "outputs": [],
   "source": [
    "def random_warp(img, row, col):\n",
    "    height, width, channels = img_ori.shape\n",
    "\n",
    "    # warp:\n",
    "    random_margin = 60\n",
    "    x1 = random.randint(-random_margin, random_margin)\n",
    "    y1 = random.randint(-random_margin, random_margin)\n",
    "    x2 = random.randint(width - random_margin - 1, width - 1)\n",
    "    y2 = random.randint(-random_margin, random_margin)\n",
    "    x3 = random.randint(width - random_margin - 1, width - 1)\n",
    "    y3 = random.randint(height - random_margin - 1, height - 1)\n",
    "    x4 = random.randint(-random_margin, random_margin)\n",
    "    y4 = random.randint(height - random_margin - 1, height - 1)\n",
    "\n",
    "    dx1 = random.randint(-random_margin, random_margin)\n",
    "    dy1 = random.randint(-random_margin, random_margin)\n",
    "    dx2 = random.randint(width - random_margin - 1, width - 1)\n",
    "    dy2 = random.randint(-random_margin, random_margin)\n",
    "    dx3 = random.randint(width - random_margin - 1, width - 1)\n",
    "    dy3 = random.randint(height - random_margin - 1, height - 1)\n",
    "    dx4 = random.randint(-random_margin, random_margin)\n",
    "    dy4 = random.randint(height - random_margin - 1, height - 1)\n",
    "\n",
    "    pts1 = np.float32([[x1, y1], [x2, y2], [x3, y3], [x4, y4]])\n",
    "    pts2 = np.float32([[dx1, dy1], [dx2, dy2], [dx3, dy3], [dx4, dy4]])\n",
    "    M_warp = cv2.getPerspectiveTransform(pts1, pts2)\n",
    "    img_warp = cv2.warpPerspective(img, M_warp, (width, height))\n",
    "    return M_warp, img_warp\n",
    "M_warp, img_warp = random_warp(img_ori, img_ori.shape[0], img_ori.shape[1])\n",
    "cv2.imshow('lenna_warp', img_warp)\n",
    "key = cv2.waitKey(0)\n",
    "if key == 27:\n",
    "    cv2.destroyAllWindows()\n",
    "\t\n"
   ]
  },
  {
   "cell_type": "code",
   "execution_count": null,
   "metadata": {},
   "outputs": [],
   "source": []
  }
 ],
 "metadata": {
  "kernelspec": {
   "display_name": "Python 3",
   "language": "python",
   "name": "python3"
  },
  "language_info": {
   "codemirror_mode": {
    "name": "ipython",
    "version": 3
   },
   "file_extension": ".py",
   "mimetype": "text/x-python",
   "name": "python",
   "nbconvert_exporter": "python",
   "pygments_lexer": "ipython3",
   "version": "3.7.3"
  },
  "toc-autonumbering": true
 },
 "nbformat": 4,
 "nbformat_minor": 4
}
