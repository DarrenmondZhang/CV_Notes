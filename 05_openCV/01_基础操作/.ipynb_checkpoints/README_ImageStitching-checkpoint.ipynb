{
 "cells": [
  {
   "cell_type": "markdown",
   "metadata": {},
   "source": [
    "# Image Stitching with OpenCV and Python"
   ]
  },
  {
   "cell_type": "markdown",
   "metadata": {},
   "source": [
    "> In this tutorial, you will learn how to perform image stitching using Python, OpenCV, and the `cv2.createStitcher` and `cv2.Stitcher_create` functions. Using today’s code you’ll be able to stitch multiple images together, creating a panorama of stitched images."
   ]
  },
  {
   "cell_type": "markdown",
   "metadata": {},
   "source": [
    "require four key steps:\n",
    "1. Detecting keypoints (DoG, Harris, etc.) and extracting local invariant descriptors (SIFT, SURF, etc.) from two input images\n",
    "2. Matching the descriptors between the images\n",
    "3. Using the `RANSAC` algorithm to estimate a homography matrix using our matched feature vectors\n",
    "4. Applying a warping transformation using the homography matrix obtained from Step #3"
   ]
  },
  {
   "cell_type": "markdown",
   "metadata": {},
   "source": [
    "![OpenCV’s image stitching algorithm](https://www.pyimagesearch.com/wp-content/uploads/2018/12/image_stitching_opencv_pipeline.png)\n",
    "\n",
    "The algorithm we’ll be using here today is similar to the method proposed by Brown and Lowe in their 2007 paper, [Automatic Panoramic Image Stitching with Invariant Features](http://matthewalunbrown.com/papers/ijcv2007.pdf)\n",
    "\n",
    "Unlike previous image stitching algorithms which are sensitive to the ordering of input images, the Brown and Lowe method is more robust, making it insensitive to:\n",
    "* Ordering of images\n",
    "* Orientation of images\n",
    "* Illumination changes\n",
    "* Noisy images that are not actually part of the panorama\n",
    "\n",
    "Furthermore, their image stitching method is capable of producing more aesthetically pleasing output panorama images through the use of gain compensation and image blending."
   ]
  },
  {
   "cell_type": "markdown",
   "metadata": {},
   "source": [
    "https://www.pyimagesearch.com/2018/12/17/image-stitching-with-opencv-and-python/"
   ]
  },
  {
   "cell_type": "code",
   "execution_count": null,
   "metadata": {},
   "outputs": [],
   "source": []
  }
 ],
 "metadata": {
  "kernelspec": {
   "display_name": "Python 3",
   "language": "python",
   "name": "python3"
  },
  "language_info": {
   "codemirror_mode": {
    "name": "ipython",
    "version": 3
   },
   "file_extension": ".py",
   "mimetype": "text/x-python",
   "name": "python",
   "nbconvert_exporter": "python",
   "pygments_lexer": "ipython3",
   "version": "3.7.3"
  }
 },
 "nbformat": 4,
 "nbformat_minor": 4
}
