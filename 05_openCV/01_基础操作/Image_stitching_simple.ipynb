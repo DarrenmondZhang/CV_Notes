{
 "cells": [
  {
   "cell_type": "markdown",
   "metadata": {},
   "source": [
    "# import the necessary packages"
   ]
  },
  {
   "cell_type": "code",
   "execution_count": 1,
   "metadata": {},
   "outputs": [],
   "source": [
    "import numpy as np\n",
    "import argparse\n",
    "import imutils\n",
    "from imutils import paths\n",
    "import cv2"
   ]
  },
  {
   "cell_type": "markdown",
   "metadata": {},
   "source": [
    "# load our input images"
   ]
  },
  {
   "cell_type": "code",
   "execution_count": 14,
   "metadata": {},
   "outputs": [
    {
     "name": "stdout",
     "output_type": "stream",
     "text": [
      "[INFO] loading images...\n",
      "[TNFO] load images finished\n"
     ]
    }
   ],
   "source": [
    "# grab the paths to the input images and initialize our images list\n",
    "img_path = \"./scottsdale\"\n",
    "print(\"[INFO] loading images...\") \n",
    "imagepath = sorted(list(paths.list_images(img_path))) # grab our imagePaths from img_path to format a list\n",
    "\n",
    "# initialize our images list\n",
    "images = []\n",
    "# loop over the image paths, load each one, and add them to our images to stich list\n",
    "for imagepath in imagepath:\n",
    "    image = cv2.imread(imagepath)\n",
    "    images.append(image)\n",
    "# print(images)\n",
    "print(\"[TNFO] load images finished\")"
   ]
  },
  {
   "cell_type": "markdown",
   "metadata": {},
   "source": [
    "# initialize OpenCV's image sticher object and then perform the image stitching\n"
   ]
  },
  {
   "cell_type": "code",
   "execution_count": 16,
   "metadata": {},
   "outputs": [
    {
     "name": "stdout",
     "output_type": "stream",
     "text": [
      "[TNFO] stitching images ...\n"
     ]
    }
   ],
   "source": [
    "print(\"[TNFO] stitching images ...\")\n",
    "\n",
    "stitcher = cv2.createStitcher() if imutils.is_cv3() else cv2.Stitcher_create()\n",
    "(status, stitched) = stitcher.stitch(images)\n"
   ]
  },
  {
   "cell_type": "code",
   "execution_count": null,
   "metadata": {},
   "outputs": [],
   "source": [
    "# if the status == 0, then opencv successfully performed image stitching\n",
    "if status == 0:\n",
    "    # write the output stitched image to disk\n",
    "    cv2.imwrite('./scottsdale/out.png', stitched)\n",
    "    \n",
    "    # display the output stitched image to our screen\n",
    "    cv2.imshow(\"stitched\", stitched)\n",
    "    cv2.waitKey(0)\n",
    "# otherwise the stitching failed, likely due to not enough keypoints being detected\n",
    "else:\n",
    "    print(\"[ERROR] image stitching failed ({})\".format(status))\n"
   ]
  },
  {
   "cell_type": "markdown",
   "metadata": {},
   "source": [
    "> Notice how we have successfully performed image stitching!\n",
    "\n",
    "* But what about those black regions surrounding the panorama? What are those?\n",
    "    * Those regions are from performing the perspective warps required to construct the panorama.\n",
    "\n",
    "There is a way to get rid of them.but we’ll need to implement some additional logic in the `image_stitching_optimize`"
   ]
  },
  {
   "cell_type": "code",
   "execution_count": null,
   "metadata": {},
   "outputs": [],
   "source": []
  }
 ],
 "metadata": {
  "kernelspec": {
   "display_name": "Python 3",
   "language": "python",
   "name": "python3"
  },
  "language_info": {
   "codemirror_mode": {
    "name": "ipython",
    "version": 3
   },
   "file_extension": ".py",
   "mimetype": "text/x-python",
   "name": "python",
   "nbconvert_exporter": "python",
   "pygments_lexer": "ipython3",
   "version": "3.7.3"
  }
 },
 "nbformat": 4,
 "nbformat_minor": 4
}
