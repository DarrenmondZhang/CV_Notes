{
 "cells": [
  {
   "cell_type": "markdown",
   "metadata": {},
   "source": [
    "序列 -> list，tuple，str都是序列\n",
    "* 其中list是可变序列\n",
    "* tuple、str是不可变序列"
   ]
  },
  {
   "cell_type": "markdown",
   "metadata": {},
   "source": [
    "# 索引 \n",
    "结果是一个值"
   ]
  },
  {
   "cell_type": "code",
   "execution_count": 4,
   "metadata": {},
   "outputs": [
    {
     "name": "stdout",
     "output_type": "stream",
     "text": [
      "[1, 2, 3, 4, 5, [1, 2, 3, 4, 5]]\n",
      "1 2\n",
      "[1, 2, 3, 4, 5] 5\n"
     ]
    }
   ],
   "source": [
    "list = [1, 2, 3, 4, 5, [1, 2, 3, 4, 5]]\n",
    "print(list)\n",
    "print(list[0], list[1])\n",
    "print(list[-1], list[-2])"
   ]
  },
  {
   "cell_type": "code",
   "execution_count": 2,
   "metadata": {},
   "outputs": [
    {
     "data": {
      "text/plain": [
       "6"
      ]
     },
     "execution_count": 2,
     "metadata": {},
     "output_type": "execute_result"
    }
   ],
   "source": [
    "len(list)"
   ]
  },
  {
   "cell_type": "code",
   "execution_count": 5,
   "metadata": {},
   "outputs": [
    {
     "name": "stdout",
     "output_type": "stream",
     "text": [
      "c ['hello', 'world']\n"
     ]
    }
   ],
   "source": [
    "tup = ['a', 'b', 'c', 'd', ['hello', 'world']]\n",
    "print(tup[2], tup[-1])"
   ]
  },
  {
   "cell_type": "code",
   "execution_count": 6,
   "metadata": {
    "scrolled": true
   },
   "outputs": [
    {
     "name": "stdout",
     "output_type": "stream",
     "text": [
      "a e\n"
     ]
    }
   ],
   "source": [
    "str = 'abcdef'\n",
    "print(str[0], str[-2])"
   ]
  },
  {
   "cell_type": "markdown",
   "metadata": {},
   "source": [
    "# 切片\n",
    "结果是一个列表"
   ]
  },
  {
   "cell_type": "code",
   "execution_count": 9,
   "metadata": {},
   "outputs": [
    {
     "name": "stdout",
     "output_type": "stream",
     "text": [
      "[3]\n",
      "[1, 2]\n",
      "[2, 3, 4, 5, [1, 2, 3, 4, 5]]\n",
      "[2, 3, 4, 5]\n",
      "bcdef\n",
      "abcd\n",
      "['c', 'd', ['hello', 'world']]\n"
     ]
    }
   ],
   "source": [
    "# 切片用：表示\n",
    "print(list[2: 3]) # 索引2至索引3，但不包含索引3\n",
    "print(list[: 2]) # 从索引0 至 索引2， 但不包含索引2\n",
    "print(list[1:]) # 从索引1至最后一个元素，包含最后一个元素\n",
    "print(list[1:-1]) # 从索引1至最后一个元素，不包含最后一个元素\n",
    "print(str[1:])\n",
    "print(str[:-2])\n",
    "print(tup[2:5])\n",
    "# 注意：切片是左闭右开的区间"
   ]
  },
  {
   "cell_type": "markdown",
   "metadata": {},
   "source": [
    "# 步长"
   ]
  },
  {
   "cell_type": "code",
   "execution_count": 10,
   "metadata": {},
   "outputs": [
    {
     "name": "stdout",
     "output_type": "stream",
     "text": [
      "[10, 30, 50]\n"
     ]
    }
   ],
   "source": [
    "lst = [10, 20, 30, 40, 50]\n",
    "print(lst[::2])\n",
    "# lst[a:b:c] 对于lst序列，从索引a到索引b，但不包含b，其中间间隔为c(步长)"
   ]
  },
  {
   "cell_type": "markdown",
   "metadata": {},
   "source": [
    "# 可变序列 vs. 不可变序列\n"
   ]
  },
  {
   "cell_type": "code",
   "execution_count": 11,
   "metadata": {
    "collapsed": true
   },
   "outputs": [],
   "source": [
    "lst = [3, 4, 5]\n",
    "tup = (3, 4, 5)\n",
    "st = '345'"
   ]
  },
  {
   "cell_type": "code",
   "execution_count": 12,
   "metadata": {},
   "outputs": [
    {
     "data": {
      "text/plain": [
       "[3, 100, 5]"
      ]
     },
     "execution_count": 12,
     "metadata": {},
     "output_type": "execute_result"
    }
   ],
   "source": [
    "lst[1] = 100\n",
    "lst"
   ]
  },
  {
   "cell_type": "markdown",
   "metadata": {},
   "source": [
    "元祖和字符串是一个不可变的序列"
   ]
  },
  {
   "cell_type": "code",
   "execution_count": 13,
   "metadata": {},
   "outputs": [
    {
     "ename": "TypeError",
     "evalue": "'tuple' object does not support item assignment",
     "output_type": "error",
     "traceback": [
      "\u001b[1;31m---------------------------------------------------------------------------\u001b[0m",
      "\u001b[1;31mTypeError\u001b[0m                                 Traceback (most recent call last)",
      "\u001b[1;32m<ipython-input-13-c1106b6f95b7>\u001b[0m in \u001b[0;36m<module>\u001b[1;34m()\u001b[0m\n\u001b[1;32m----> 1\u001b[1;33m \u001b[0mtup\u001b[0m\u001b[1;33m[\u001b[0m\u001b[1;36m1\u001b[0m\u001b[1;33m]\u001b[0m \u001b[1;33m=\u001b[0m \u001b[1;36m12\u001b[0m\u001b[1;33m\u001b[0m\u001b[1;33m\u001b[0m\u001b[0m\n\u001b[0m\u001b[0;32m      2\u001b[0m \u001b[0mtup\u001b[0m\u001b[1;33m\u001b[0m\u001b[1;33m\u001b[0m\u001b[0m\n",
      "\u001b[1;31mTypeError\u001b[0m: 'tuple' object does not support item assignment"
     ]
    }
   ],
   "source": [
    "tup[1] = 12\n",
    "tup"
   ]
  },
  {
   "cell_type": "code",
   "execution_count": 14,
   "metadata": {},
   "outputs": [
    {
     "ename": "NameError",
     "evalue": "name 'H' is not defined",
     "output_type": "error",
     "traceback": [
      "\u001b[1;31m---------------------------------------------------------------------------\u001b[0m",
      "\u001b[1;31mNameError\u001b[0m                                 Traceback (most recent call last)",
      "\u001b[1;32m<ipython-input-14-375d2a18178a>\u001b[0m in \u001b[0;36m<module>\u001b[1;34m()\u001b[0m\n\u001b[1;32m----> 1\u001b[1;33m \u001b[0mstr\u001b[0m\u001b[1;33m[\u001b[0m\u001b[1;36m1\u001b[0m\u001b[1;33m]\u001b[0m \u001b[1;33m=\u001b[0m \u001b[0mH\u001b[0m\u001b[1;33m\u001b[0m\u001b[1;33m\u001b[0m\u001b[0m\n\u001b[0m",
      "\u001b[1;31mNameError\u001b[0m: name 'H' is not defined"
     ]
    }
   ],
   "source": [
    "str[1] = H"
   ]
  },
  {
   "cell_type": "markdown",
   "metadata": {},
   "source": [
    "## 列表的常用方法，函数"
   ]
  },
  {
   "cell_type": "code",
   "execution_count": 15,
   "metadata": {},
   "outputs": [
    {
     "name": "stdout",
     "output_type": "stream",
     "text": [
      "6\n"
     ]
    }
   ],
   "source": [
    "lst = [10, 20, 30, 40, 50, 60]\n",
    "print(len(lst))"
   ]
  },
  {
   "cell_type": "code",
   "execution_count": 16,
   "metadata": {},
   "outputs": [
    {
     "name": "stdout",
     "output_type": "stream",
     "text": [
      "[10, 20, 30, 40, 50, 60, 100, ['a', 'b']]\n"
     ]
    }
   ],
   "source": [
    "lst.append(100)\n",
    "lst.append(['a', 'b']) # 将该列表当做一个元素添加到lst中\n",
    "print(lst)"
   ]
  },
  {
   "cell_type": "code",
   "execution_count": 17,
   "metadata": {},
   "outputs": [
    {
     "name": "stdout",
     "output_type": "stream",
     "text": [
      "[10, 20, 30, 40, 50, 60, 100, ['a', 'b'], 'a', 'b']\n"
     ]
    }
   ],
   "source": [
    "lst.extend(['a', 'b']) # 将列表中的值添加到lst中\n",
    "print(lst)"
   ]
  },
  {
   "cell_type": "code",
   "execution_count": 18,
   "metadata": {},
   "outputs": [
    {
     "name": "stdout",
     "output_type": "stream",
     "text": [
      "[10, 20, 30, 40, 50, 60, 100, ['a', 'b'], 'a', 'b', 'c', ['sdfs', 'dafafa']]\n"
     ]
    }
   ],
   "source": [
    "lst.extend(['c',['sdfs', 'dafafa']]) # 只能识别一层\n",
    "print(lst)"
   ]
  },
  {
   "cell_type": "code",
   "execution_count": 19,
   "metadata": {},
   "outputs": [
    {
     "name": "stdout",
     "output_type": "stream",
     "text": [
      "[10, 20, 100, 30, 40, 50, 60, 100, ['a', 'b'], 'a', 'b', 'c', ['sdfs', 'dafafa']]\n"
     ]
    }
   ],
   "source": [
    "lst.insert(2, 100)\n",
    "print(lst)"
   ]
  },
  {
   "cell_type": "code",
   "execution_count": 21,
   "metadata": {},
   "outputs": [
    {
     "name": "stdout",
     "output_type": "stream",
     "text": [
      "3047721578568\n",
      "[10, 20, 100, 30, 40, 50, 60, 100, ['a', 'b'], 'a', 'b', 'c', ['sdfs', 'dafafa']] 3047721578568\n",
      "[10, 20, 100, 30, 40, 50, 60, 100, ['a', 'b'], 'a', 'b', 'c', ['sdfs', 'dafafa']] 3047721578568\n",
      "[10, 20, 100, 30, 40, 50, 60, 100, ['a', 'b'], 'a', 'b', 'c', ['sdfs', 'dafafa']] 3047719338184\n"
     ]
    }
   ],
   "source": [
    "# 复制列表，注意指向问题\n",
    "# print(id(lst))\n",
    "lst2 = lst\n",
    "lst3 = lst.copy()\n",
    "print(lst, id(lst))\n",
    "print(lst2, id(lst2))\n",
    "print(lst3, id(lst3))"
   ]
  },
  {
   "cell_type": "code",
   "execution_count": 22,
   "metadata": {},
   "outputs": [
    {
     "name": "stdout",
     "output_type": "stream",
     "text": [
      "['a', 20, 100, 30, 40, 50, 60, 100, ['a', 'b'], 'a', 'b', 'c', ['sdfs', 'dafafa']]\n"
     ]
    }
   ],
   "source": [
    "lst[0] = 'a'\n",
    "print(lst)"
   ]
  },
  {
   "cell_type": "code",
   "execution_count": 23,
   "metadata": {},
   "outputs": [
    {
     "name": "stdout",
     "output_type": "stream",
     "text": [
      "['a', 20, 100, 30, 40, 50, 60, 100, ['a', 'b'], 'a', 'b', 'c', ['sdfs', 'dafafa']]\n"
     ]
    }
   ],
   "source": [
    "print(lst2) # lst2 和 lst的id相同，指向相同的内存空间，所以一个值改变，另一个也会改变"
   ]
  },
  {
   "cell_type": "code",
   "execution_count": null,
   "metadata": {
    "collapsed": true
   },
   "outputs": [],
   "source": []
  }
 ],
 "metadata": {
  "kernelspec": {
   "display_name": "Python [conda env:tf1]",
   "language": "python",
   "name": "conda-env-tf1-py"
  },
  "language_info": {
   "codemirror_mode": {
    "name": "ipython",
    "version": 3
   },
   "file_extension": ".py",
   "mimetype": "text/x-python",
   "name": "python",
   "nbconvert_exporter": "python",
   "pygments_lexer": "ipython3",
   "version": "3.6.9"
  }
 },
 "nbformat": 4,
 "nbformat_minor": 2
}
