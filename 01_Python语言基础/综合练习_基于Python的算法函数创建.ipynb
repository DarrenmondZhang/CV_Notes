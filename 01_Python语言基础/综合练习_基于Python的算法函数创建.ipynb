{
 "cells": [
  {
   "cell_type": "markdown",
   "metadata": {},
   "source": [
    "1、题目1：有1、2、3、4个数字，能组成多少个互不相同且无重复数字的两位数？都是多少？"
   ]
  },
  {
   "cell_type": "code",
   "execution_count": 7,
   "metadata": {},
   "outputs": [
    {
     "name": "stdout",
     "output_type": "stream",
     "text": [
      "4\n",
      "12\n",
      "不同的两位数是12\n",
      "总共有1数字\n",
      "不同的两位数是13\n",
      "总共有2数字\n",
      "不同的两位数是14\n",
      "总共有3数字\n",
      "不同的两位数是21\n",
      "总共有4数字\n",
      "不同的两位数是23\n",
      "总共有5数字\n",
      "不同的两位数是24\n",
      "总共有6数字\n",
      "不同的两位数是31\n",
      "总共有7数字\n",
      "不同的两位数是32\n",
      "总共有8数字\n",
      "不同的两位数是34\n",
      "总共有9数字\n",
      "不同的两位数是41\n",
      "总共有10数字\n",
      "不同的两位数是42\n",
      "总共有11数字\n",
      "不同的两位数是43\n",
      "总共有12数字\n"
     ]
    },
    {
     "data": {
      "text/plain": [
       "[1, 1, 1, 2, 2, 2, 3, 3, 3, 4, 4, 4]"
      ]
     },
     "execution_count": 7,
     "metadata": {},
     "output_type": "execute_result"
    }
   ],
   "source": [
    "lst = [1, 2, 3, 4]\n",
    "print(len(lst))\n",
    "s = 0\n",
    "for i in lst:\n",
    "    for j in lst:\n",
    "        if i != j:\n",
    "            s += 1\n",
    "print(s)\n",
    "\n",
    "lst = []\n",
    "for i in range(1, 5):\n",
    "    for j in range(1, 5):\n",
    "        if i != j:\n",
    "            lst.append(i)\n",
    "            print('不同的两位数是%i%i' %(i,j))\n",
    "            print('总共有%i数字' %(len(lst)))\n",
    "\n",
    "lst"
   ]
  },
  {
   "cell_type": "markdown",
   "metadata": {},
   "source": [
    "2、题目2：输入三个整数x,y,z，请把这三个数由小到大输出，可调用input()。（需要加判断：判断输入数据是否为数字）\n",
    "* 提示：判断是否为数字：.isdigit()\n",
    "* 该题目需要创建函数"
   ]
  },
  {
   "cell_type": "code",
   "execution_count": 6,
   "metadata": {},
   "outputs": [
    {
     "name": "stdout",
     "output_type": "stream",
     "text": [
      "请输入第1个整数4\n",
      "请输入第2个整数f\n",
      "您的输入有误，请输入2个整数2\n",
      "请输入第3个整数4\n"
     ]
    },
    {
     "data": {
      "text/plain": [
       "['2', '4', '4']"
      ]
     },
     "execution_count": 6,
     "metadata": {},
     "output_type": "execute_result"
    }
   ],
   "source": [
    "lst = []\n",
    "for i in range(1, 4):\n",
    "    n = input('请输入第%i个整数' %i)\n",
    "    while n.isdigit() == False:\n",
    "            n = input('您的输入有误，请输入%i个整数'  %i)\n",
    "    lst.append(n)\n",
    "    lst.sort()\n",
    "lst"
   ]
  },
  {
   "cell_type": "markdown",
   "metadata": {},
   "source": [
    "3、输入一行字符，分别统计出其中英文字母、空格、数字和其它字符的个数。\n",
    "* 该题目不需要创建函数"
   ]
  },
  {
   "cell_type": "code",
   "execution_count": 11,
   "metadata": {},
   "outputs": [
    {
     "name": "stdout",
     "output_type": "stream",
     "text": [
      "请输入一行字符sdfaf  sf asfs15 211 asf\n",
      "<class 'str'>\n",
      "英文字母有14个，空格字母有5个，数字有5个，其他字符有0个\n"
     ]
    }
   ],
   "source": [
    "n = str(input('请输入一行字符'))\n",
    "print(type(n))\n",
    "c = 0\n",
    "nums=0\n",
    "nums_alpha = 0\n",
    "nums_space = 0\n",
    "nums_qt = 0\n",
    "for i in range(len(n)):\n",
    "    if n[i].isalpha():\n",
    "        nums_alpha += 1\n",
    "    elif n[i].isdigit():\n",
    "        nums += 1\n",
    "    elif n[i].isspace():\n",
    "        nums_space += 1\n",
    "    else:\n",
    "        nums_qt += 1\n",
    "print('英文字母有%i个，空格字母有%i个，数字有%i个，其他字符有%i个' %(nums_alpha, nums_space, nums, nums_qt))"
   ]
  },
  {
   "cell_type": "markdown",
   "metadata": {},
   "source": [
    "4、猴子吃桃问题\n",
    "* 猴子第一天摘下若干个桃子，当即吃了一半，还不瘾，又多吃了一个,\n",
    "* 第二天早上又将剩下的桃子吃掉一半，又多吃了一个。\n",
    "* 以后每天早上都吃了前一天剩下的一半零一个。到第10天早上想再吃时，见只剩下一个桃子了。求第一天共摘了多少?\n",
    "* 提示：采取逆向思维的方法，从后往前推断。\n",
    "* 该题目不需要创建函数"
   ]
  },
  {
   "cell_type": "code",
   "execution_count": 13,
   "metadata": {},
   "outputs": [
    {
     "name": "stdout",
     "output_type": "stream",
     "text": [
      "第9剩下4个桃子\n",
      "第8剩下10个桃子\n",
      "第7剩下22个桃子\n",
      "第6剩下46个桃子\n",
      "第5剩下94个桃子\n",
      "第4剩下190个桃子\n",
      "第3剩下382个桃子\n",
      "第2剩下766个桃子\n",
      "第1剩下1534个桃子\n"
     ]
    }
   ],
   "source": [
    "n = 1\n",
    "for i in range(9, 0, -1):\n",
    "    print('第%i剩下%i个桃子' %(i, (n + 1)*2))\n",
    "    n = (n + 1)*2"
   ]
  },
  {
   "cell_type": "markdown",
   "metadata": {},
   "source": [
    "5、猜数字问题，要求如下：\n",
    "* ① 随机生成一个整数\n",
    "* ② 猜一个数字并输入\n",
    "* ③ 判断是大是小，直到猜正确\n",
    "* ④ 判断时间\n",
    "* 提示：需要用time模块、random模块\n",
    "* 该题目不需要创建函数"
   ]
  },
  {
   "cell_type": "code",
   "execution_count": null,
   "metadata": {},
   "outputs": [],
   "source": [
    "import random\n",
    "import time\n",
    "num = random.randint(0, 100)\n",
    "print(num)\n",
    "\n",
    "starttime = time.time()\n",
    "print(starttime)\n",
    "guess = int(input('请猜一个数字%i'))\n",
    "\n",
    "while guess != num:\n",
    "    if guess > nums:\n",
    "        print('您猜大了')\n",
    "        guess = int(input('请重新猜一个数字%i'))\n",
    "    else:\n",
    "        print('您猜小了')\n",
    "        guess = int(input('请重新猜一个数字%i'))\n",
    "else:\n",
    "    print('您猜对了')\n",
    "endtime = time.time()\n",
    "totaltime = endtime - starttime\n",
    "print('总共用时%.2f' %totaltime)"
   ]
  },
  {
   "cell_type": "code",
   "execution_count": 2,
   "metadata": {},
   "outputs": [
    {
     "name": "stdout",
     "output_type": "stream",
     "text": [
      "90\n",
      "1568965399.6774848\n",
      "请猜一个数字%i12\n",
      "您猜小了\n",
      "请重新猜一个数字%i46\n",
      "您猜小了\n",
      "请重新猜一个数字%i446\n",
      "您猜大了\n",
      "请重新猜一个数字%i90\n",
      "您猜对了\n",
      "总共用时11.27\n"
     ]
    }
   ],
   "source": [
    "import random\n",
    "import time\n",
    "num = random.randint(0, 100)\n",
    "print(num)\n",
    "\n",
    "starttime = time.time()\n",
    "print(starttime)\n",
    "guess = int(input('请猜一个数字%i'))\n",
    "\n",
    "while guess != num:\n",
    "    if guess > num:\n",
    "        print('您猜大了')\n",
    "        guess = int(input('请重新猜一个数字%i'))\n",
    "    else:\n",
    "        print('您猜小了')\n",
    "        guess = int(input('请重新猜一个数字%i'))\n",
    "else:\n",
    "    print('您猜对了')\n",
    "endtime = time.time()\n",
    "totaltime = endtime - starttime\n",
    "print('总共用时%.2f' %totaltime)"
   ]
  },
  {
   "cell_type": "code",
   "execution_count": null,
   "metadata": {
    "collapsed": true
   },
   "outputs": [],
   "source": []
  }
 ],
 "metadata": {
  "anaconda-cloud": {},
  "kernelspec": {
   "display_name": "Python [conda env:tf1]",
   "language": "python",
   "name": "conda-env-tf1-py"
  },
  "language_info": {
   "codemirror_mode": {
    "name": "ipython",
    "version": 3
   },
   "file_extension": ".py",
   "mimetype": "text/x-python",
   "name": "python",
   "nbconvert_exporter": "python",
   "pygments_lexer": "ipython3",
   "version": "3.6.9"
  }
 },
 "nbformat": 4,
 "nbformat_minor": 1
}
