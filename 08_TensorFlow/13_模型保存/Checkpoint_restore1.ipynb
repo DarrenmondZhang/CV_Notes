{
 "cells": [
  {
   "cell_type": "code",
   "execution_count": 1,
   "metadata": {},
   "outputs": [
    {
     "name": "stderr",
     "output_type": "stream",
     "text": [
      "F:\\Anaconda3\\lib\\importlib\\_bootstrap.py:222: RuntimeWarning: numpy.dtype size changed, may indicate binary incompatibility. Expected 96, got 88\n",
      "  return f(*args, **kwds)\n"
     ]
    }
   ],
   "source": [
    "import tensorflow as tf\n",
    "from tensorflow.examples.tutorials.mnist import input_data"
   ]
  },
  {
   "cell_type": "code",
   "execution_count": 2,
   "metadata": {},
   "outputs": [
    {
     "name": "stdout",
     "output_type": "stream",
     "text": [
      "WARNING:tensorflow:From <ipython-input-2-8c20a1394460>:2: read_data_sets (from tensorflow.contrib.learn.python.learn.datasets.mnist) is deprecated and will be removed in a future version.\n",
      "Instructions for updating:\n",
      "Please use alternatives such as official/mnist/dataset.py from tensorflow/models.\n",
      "WARNING:tensorflow:From F:\\Anaconda3\\lib\\site-packages\\tensorflow\\contrib\\learn\\python\\learn\\datasets\\mnist.py:260: maybe_download (from tensorflow.contrib.learn.python.learn.datasets.base) is deprecated and will be removed in a future version.\n",
      "Instructions for updating:\n",
      "Please write your own downloading logic.\n",
      "WARNING:tensorflow:From F:\\Anaconda3\\lib\\site-packages\\tensorflow\\contrib\\learn\\python\\learn\\datasets\\mnist.py:262: extract_images (from tensorflow.contrib.learn.python.learn.datasets.mnist) is deprecated and will be removed in a future version.\n",
      "Instructions for updating:\n",
      "Please use tf.data to implement this functionality.\n",
      "Extracting MNIST_data\\train-images-idx3-ubyte.gz\n",
      "WARNING:tensorflow:From F:\\Anaconda3\\lib\\site-packages\\tensorflow\\contrib\\learn\\python\\learn\\datasets\\mnist.py:267: extract_labels (from tensorflow.contrib.learn.python.learn.datasets.mnist) is deprecated and will be removed in a future version.\n",
      "Instructions for updating:\n",
      "Please use tf.data to implement this functionality.\n",
      "Extracting MNIST_data\\train-labels-idx1-ubyte.gz\n",
      "WARNING:tensorflow:From F:\\Anaconda3\\lib\\site-packages\\tensorflow\\contrib\\learn\\python\\learn\\datasets\\mnist.py:110: dense_to_one_hot (from tensorflow.contrib.learn.python.learn.datasets.mnist) is deprecated and will be removed in a future version.\n",
      "Instructions for updating:\n",
      "Please use tf.one_hot on tensors.\n",
      "Extracting MNIST_data\\t10k-images-idx3-ubyte.gz\n",
      "Extracting MNIST_data\\t10k-labels-idx1-ubyte.gz\n",
      "WARNING:tensorflow:From F:\\Anaconda3\\lib\\site-packages\\tensorflow\\contrib\\learn\\python\\learn\\datasets\\mnist.py:290: DataSet.__init__ (from tensorflow.contrib.learn.python.learn.datasets.mnist) is deprecated and will be removed in a future version.\n",
      "Instructions for updating:\n",
      "Please use alternatives such as official/mnist/dataset.py from tensorflow/models.\n",
      "INFO:tensorflow:Restoring parameters from models/my_model.ckpt\n",
      "0.9303\n",
      "Iter 0,Testing Accuracy 0.9291\n",
      "Iter 1,Testing Accuracy 0.9296\n",
      "Iter 2,Testing Accuracy 0.9307\n",
      "Iter 3,Testing Accuracy 0.9312\n",
      "Iter 4,Testing Accuracy 0.9312\n",
      "Iter 5,Testing Accuracy 0.9301\n",
      "Iter 6,Testing Accuracy 0.9322\n",
      "Iter 7,Testing Accuracy 0.9326\n",
      "Iter 8,Testing Accuracy 0.9321\n",
      "Iter 9,Testing Accuracy 0.9328\n",
      "Iter 10,Testing Accuracy 0.9339\n"
     ]
    }
   ],
   "source": [
    "# 载入数据集\n",
    "mnist = input_data.read_data_sets(\"MNIST_data\",one_hot=True)\n",
    "# 定义批次大小\n",
    "batch_size = 64\n",
    "# 计算一共有多少个批次\n",
    "n_batch = mnist.train.num_examples // batch_size\n",
    "\n",
    "\n",
    "with tf.Session() as sess:\n",
    "    # 载入模型结构\n",
    "    saver = tf.train.import_meta_graph('models/my_model.ckpt.meta')\n",
    "    # 载入模型参数\n",
    "    saver.restore(sess,'models/my_model.ckpt')\n",
    "    # 根据tensor的名字获取到对应的tensor\n",
    "    # 之前保存模型的时候模型输出保存为output，\":0\"是保存模型参数时自动加上的，所以这里也要写上\n",
    "    output = sess.graph.get_tensor_by_name('output:0')\n",
    "    # 根据tensor的名字获取到对应的tensor\n",
    "    # 之前保存模型的时候准确率计算保存为accuracy，\":0\"是保存模型参数时自动加上的，所以这里也要写上\n",
    "    accuracy = sess.graph.get_tensor_by_name('accuracy:0')\n",
    "    # 之前保存模型的时候模型训练保存为train，注意这里的train是operation不是tensor\n",
    "    train_step = sess.graph.get_operation_by_name('train')\n",
    "\n",
    "    # 把测试集喂到网络中计算准确率\n",
    "    # x-input是模型数据的输入，\":0\"是保存模型参数时自动加上的，所以这里也要写上\n",
    "    # y-input是模型标签的输入，\":0\"是保存模型参数时自动加上的，所以这里也要写上\n",
    "    print(sess.run(accuracy,feed_dict={'x-input:0':mnist.test.images,'y-input:0':mnist.test.labels}))\n",
    "    \n",
    "    # 在原来模型的基础上再训练11个周期\n",
    "    for epoch in range(11):\n",
    "        for batch in range(n_batch):\n",
    "            # 获取一个批次的数据和标签\n",
    "            batch_xs,batch_ys =  mnist.train.next_batch(batch_size)\n",
    "            # 训练模型\n",
    "            sess.run(train_step,feed_dict={'x-input:0':batch_xs,'y-input:0':batch_ys})\n",
    "        # 计算测试集准确率\n",
    "        acc = sess.run(accuracy,feed_dict={'x-input:0':mnist.test.images,'y-input:0':mnist.test.labels})\n",
    "        # 打印信息\n",
    "        print(\"Iter \" + str(epoch) + \",Testing Accuracy \" + str(acc))"
   ]
  },
  {
   "cell_type": "code",
   "execution_count": null,
   "metadata": {
    "collapsed": true
   },
   "outputs": [],
   "source": []
  }
 ],
 "metadata": {
  "anaconda-cloud": {},
  "kernelspec": {
   "display_name": "Python 3",
   "language": "python",
   "name": "python3"
  },
  "language_info": {
   "codemirror_mode": {
    "name": "ipython",
    "version": 3
   },
   "file_extension": ".py",
   "mimetype": "text/x-python",
   "name": "python",
   "nbconvert_exporter": "python",
   "pygments_lexer": "ipython3",
   "version": "3.6.9"
  },
  "toc": {
   "base_numbering": 1,
   "nav_menu": {},
   "number_sections": true,
   "sideBar": true,
   "skip_h1_title": false,
   "title_cell": "Table of Contents",
   "title_sidebar": "Contents",
   "toc_cell": false,
   "toc_position": {},
   "toc_section_display": true,
   "toc_window_display": false
  }
 },
 "nbformat": 4,
 "nbformat_minor": 1
}
