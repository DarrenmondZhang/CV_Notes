{
 "cells": [
  {
   "cell_type": "code",
   "execution_count": 1,
   "metadata": {
    "ExecuteTime": {
     "end_time": "2019-10-03T01:15:37.373180Z",
     "start_time": "2019-10-03T01:15:34.112760Z"
    }
   },
   "outputs": [
    {
     "name": "stderr",
     "output_type": "stream",
     "text": [
      "C:\\Users\\Administrator\\Anaconda3\\envs\\tf1.8\\lib\\site-packages\\tensorflow\\python\\framework\\dtypes.py:519: FutureWarning: Passing (type, 1) or '1type' as a synonym of type is deprecated; in a future version of numpy, it will be understood as (type, (1,)) / '(1,)type'.\n",
      "  _np_qint8 = np.dtype([(\"qint8\", np.int8, 1)])\n",
      "C:\\Users\\Administrator\\Anaconda3\\envs\\tf1.8\\lib\\site-packages\\tensorflow\\python\\framework\\dtypes.py:520: FutureWarning: Passing (type, 1) or '1type' as a synonym of type is deprecated; in a future version of numpy, it will be understood as (type, (1,)) / '(1,)type'.\n",
      "  _np_quint8 = np.dtype([(\"quint8\", np.uint8, 1)])\n",
      "C:\\Users\\Administrator\\Anaconda3\\envs\\tf1.8\\lib\\site-packages\\tensorflow\\python\\framework\\dtypes.py:521: FutureWarning: Passing (type, 1) or '1type' as a synonym of type is deprecated; in a future version of numpy, it will be understood as (type, (1,)) / '(1,)type'.\n",
      "  _np_qint16 = np.dtype([(\"qint16\", np.int16, 1)])\n",
      "C:\\Users\\Administrator\\Anaconda3\\envs\\tf1.8\\lib\\site-packages\\tensorflow\\python\\framework\\dtypes.py:522: FutureWarning: Passing (type, 1) or '1type' as a synonym of type is deprecated; in a future version of numpy, it will be understood as (type, (1,)) / '(1,)type'.\n",
      "  _np_quint16 = np.dtype([(\"quint16\", np.uint16, 1)])\n",
      "C:\\Users\\Administrator\\Anaconda3\\envs\\tf1.8\\lib\\site-packages\\tensorflow\\python\\framework\\dtypes.py:523: FutureWarning: Passing (type, 1) or '1type' as a synonym of type is deprecated; in a future version of numpy, it will be understood as (type, (1,)) / '(1,)type'.\n",
      "  _np_qint32 = np.dtype([(\"qint32\", np.int32, 1)])\n",
      "C:\\Users\\Administrator\\Anaconda3\\envs\\tf1.8\\lib\\site-packages\\tensorflow\\python\\framework\\dtypes.py:528: FutureWarning: Passing (type, 1) or '1type' as a synonym of type is deprecated; in a future version of numpy, it will be understood as (type, (1,)) / '(1,)type'.\n",
      "  np_resource = np.dtype([(\"resource\", np.ubyte, 1)])\n"
     ]
    }
   ],
   "source": [
    "import tensorflow as tf\n",
    "from tensorflow.examples.tutorials.mnist import input_data"
   ]
  },
  {
   "cell_type": "code",
   "execution_count": 2,
   "metadata": {
    "ExecuteTime": {
     "end_time": "2019-10-03T01:16:38.993319Z",
     "start_time": "2019-10-03T01:15:37.374150Z"
    }
   },
   "outputs": [
    {
     "name": "stdout",
     "output_type": "stream",
     "text": [
      "WARNING:tensorflow:From <ipython-input-2-172d9732120a>:2: read_data_sets (from tensorflow.contrib.learn.python.learn.datasets.mnist) is deprecated and will be removed in a future version.\n",
      "Instructions for updating:\n",
      "Please use alternatives such as official/mnist/dataset.py from tensorflow/models.\n",
      "WARNING:tensorflow:From C:\\Users\\Administrator\\Anaconda3\\envs\\tf1.8\\lib\\site-packages\\tensorflow\\contrib\\learn\\python\\learn\\datasets\\mnist.py:260: maybe_download (from tensorflow.contrib.learn.python.learn.datasets.base) is deprecated and will be removed in a future version.\n",
      "Instructions for updating:\n",
      "Please write your own downloading logic.\n",
      "WARNING:tensorflow:From C:\\Users\\Administrator\\Anaconda3\\envs\\tf1.8\\lib\\site-packages\\tensorflow\\contrib\\learn\\python\\learn\\datasets\\mnist.py:262: extract_images (from tensorflow.contrib.learn.python.learn.datasets.mnist) is deprecated and will be removed in a future version.\n",
      "Instructions for updating:\n",
      "Please use tf.data to implement this functionality.\n",
      "Extracting MNIST_data\\train-images-idx3-ubyte.gz\n",
      "WARNING:tensorflow:From C:\\Users\\Administrator\\Anaconda3\\envs\\tf1.8\\lib\\site-packages\\tensorflow\\contrib\\learn\\python\\learn\\datasets\\mnist.py:267: extract_labels (from tensorflow.contrib.learn.python.learn.datasets.mnist) is deprecated and will be removed in a future version.\n",
      "Instructions for updating:\n",
      "Please use tf.data to implement this functionality.\n",
      "Extracting MNIST_data\\train-labels-idx1-ubyte.gz\n",
      "WARNING:tensorflow:From C:\\Users\\Administrator\\Anaconda3\\envs\\tf1.8\\lib\\site-packages\\tensorflow\\contrib\\learn\\python\\learn\\datasets\\mnist.py:110: dense_to_one_hot (from tensorflow.contrib.learn.python.learn.datasets.mnist) is deprecated and will be removed in a future version.\n",
      "Instructions for updating:\n",
      "Please use tf.one_hot on tensors.\n",
      "Extracting MNIST_data\\t10k-images-idx3-ubyte.gz\n",
      "Extracting MNIST_data\\t10k-labels-idx1-ubyte.gz\n",
      "WARNING:tensorflow:From C:\\Users\\Administrator\\Anaconda3\\envs\\tf1.8\\lib\\site-packages\\tensorflow\\contrib\\learn\\python\\learn\\datasets\\mnist.py:290: DataSet.__init__ (from tensorflow.contrib.learn.python.learn.datasets.mnist) is deprecated and will be removed in a future version.\n",
      "Instructions for updating:\n",
      "Please use alternatives such as official/mnist/dataset.py from tensorflow/models.\n",
      "Iter 0,Testing Accuracy 0.8752\n",
      "Iter 1,Testing Accuracy 0.8925\n",
      "Iter 2,Testing Accuracy 0.9005\n",
      "Iter 3,Testing Accuracy 0.905\n",
      "Iter 4,Testing Accuracy 0.9062\n",
      "Iter 5,Testing Accuracy 0.9096\n",
      "Iter 6,Testing Accuracy 0.9108\n",
      "Iter 7,Testing Accuracy 0.9136\n",
      "Iter 8,Testing Accuracy 0.9148\n",
      "Iter 9,Testing Accuracy 0.9151\n",
      "Iter 10,Testing Accuracy 0.9159\n",
      "Iter 11,Testing Accuracy 0.917\n",
      "Iter 12,Testing Accuracy 0.9183\n",
      "Iter 13,Testing Accuracy 0.9183\n",
      "Iter 14,Testing Accuracy 0.919\n",
      "Iter 15,Testing Accuracy 0.9191\n",
      "Iter 16,Testing Accuracy 0.9194\n",
      "Iter 17,Testing Accuracy 0.9201\n",
      "Iter 18,Testing Accuracy 0.9208\n",
      "Iter 19,Testing Accuracy 0.9207\n",
      "Iter 20,Testing Accuracy 0.9209\n",
      "Iter 21,Testing Accuracy 0.9214\n",
      "Iter 22,Testing Accuracy 0.9221\n",
      "Iter 23,Testing Accuracy 0.922\n",
      "Iter 24,Testing Accuracy 0.9224\n",
      "Iter 25,Testing Accuracy 0.9231\n",
      "Iter 26,Testing Accuracy 0.9231\n",
      "Iter 27,Testing Accuracy 0.9236\n",
      "Iter 28,Testing Accuracy 0.9237\n",
      "Iter 29,Testing Accuracy 0.9241\n",
      "Iter 30,Testing Accuracy 0.9252\n",
      "Iter 31,Testing Accuracy 0.9244\n",
      "Iter 32,Testing Accuracy 0.9245\n",
      "Iter 33,Testing Accuracy 0.925\n",
      "Iter 34,Testing Accuracy 0.9257\n",
      "Iter 35,Testing Accuracy 0.9253\n",
      "Iter 36,Testing Accuracy 0.9252\n",
      "Iter 37,Testing Accuracy 0.9254\n",
      "Iter 38,Testing Accuracy 0.9261\n",
      "Iter 39,Testing Accuracy 0.9264\n",
      "Iter 40,Testing Accuracy 0.9259\n",
      "Iter 41,Testing Accuracy 0.9265\n",
      "Iter 42,Testing Accuracy 0.9269\n",
      "Iter 43,Testing Accuracy 0.9266\n",
      "Iter 44,Testing Accuracy 0.9265\n",
      "Iter 45,Testing Accuracy 0.9265\n",
      "Iter 46,Testing Accuracy 0.9256\n",
      "Iter 47,Testing Accuracy 0.9267\n",
      "Iter 48,Testing Accuracy 0.9271\n",
      "Iter 49,Testing Accuracy 0.9276\n",
      "Iter 50,Testing Accuracy 0.9275\n"
     ]
    }
   ],
   "source": [
    "# 载入数据集\n",
    "mnist = input_data.read_data_sets(\"MNIST_data\",one_hot=True)\n",
    "\n",
    "# 每个批次的大小\n",
    "batch_size = 64\n",
    "# 计算一共有多少个批次\n",
    "n_batch = mnist.train.num_examples // batch_size\n",
    "\n",
    "# 参数概要\n",
    "def variable_summaries(var):\n",
    "    with tf.name_scope('summaries'):\n",
    "        mean = tf.reduce_mean(var)\n",
    "        # 平均值\n",
    "        tf.summary.scalar('mean', mean)\n",
    "        with tf.name_scope('stddev'):\n",
    "            stddev = tf.sqrt(tf.reduce_mean(tf.square(var - mean)))\n",
    "        # 标准差\n",
    "        tf.summary.scalar('stddev', stddev)\n",
    "        # 最大值\n",
    "        tf.summary.scalar('max', tf.reduce_max(var))\n",
    "        # 最小值\n",
    "        tf.summary.scalar('min', tf.reduce_min(var))\n",
    "        # 直方图\n",
    "        tf.summary.histogram('histogram', var)\n",
    "\n",
    "# 命名空间\n",
    "with tf.name_scope('input'):\n",
    "    # 定义两个placeholder\n",
    "    x = tf.placeholder(tf.float32,[None,784],name='x-input')\n",
    "    y = tf.placeholder(tf.float32,[None,10],name='y-input')\n",
    "    \n",
    "with tf.name_scope('layer'):\n",
    "    # 创建一个简单的神经网络\n",
    "    with tf.name_scope('wights'):\n",
    "        W = tf.Variable(tf.zeros([784,10]),name='W')\n",
    "        variable_summaries(W)\n",
    "    with tf.name_scope('biases'):    \n",
    "        b = tf.Variable(tf.zeros([10]),name='b')\n",
    "        variable_summaries(b)\n",
    "    with tf.name_scope('wx_plus_b'):\n",
    "        wx_plus_b = tf.matmul(x,W) + b\n",
    "    with tf.name_scope('softmax'):\n",
    "        prediction = tf.nn.softmax(wx_plus_b)\n",
    "\n",
    "with tf.name_scope('loss'):\n",
    "    # 二次代价函数\n",
    "    loss = tf.losses.mean_squared_error(y, prediction)\n",
    "    tf.summary.scalar('loss',loss)\n",
    "with tf.name_scope('train'):\n",
    "    # 使用梯度下降法\n",
    "    train_step = tf.train.GradientDescentOptimizer(0.3).minimize(loss)\n",
    "\n",
    "# 初始化变量\n",
    "init = tf.global_variables_initializer()\n",
    "\n",
    "with tf.name_scope('accuracy'):\n",
    "    with tf.name_scope('correct_prediction'):\n",
    "        # 结果存放在一个布尔型列表中\n",
    "        correct_prediction = tf.equal(tf.argmax(y,1),tf.argmax(prediction,1))\n",
    "    with tf.name_scope('accuracy'):\n",
    "        # 求准确率\n",
    "        accuracy = tf.reduce_mean(tf.cast(correct_prediction,tf.float32))\n",
    "        tf.summary.scalar('accuracy',accuracy)\n",
    "        \n",
    "# 合并所有的summary\n",
    "merged = tf.summary.merge_all()\n",
    "\n",
    "# with tf.Session() as sess:\n",
    "#     sess.run(init)\n",
    "#     writer = tf.summary.FileWriter('logs/',sess.graph)\n",
    "#     for epoch in range(51):\n",
    "#         for batch in range(n_batch):\n",
    "#             batch_xs,batch_ys =  mnist.train.next_batch(batch_size)\n",
    "#             summary,_ = sess.run([merged,train_step],feed_dict={x:batch_xs,y:batch_ys})\n",
    "            \n",
    "#         writer.add_summary(summary,epoch)\n",
    "#         acc = sess.run(accuracy,feed_dict={x:mnist.test.images,y:mnist.test.labels})\n",
    "#         print(\"Iter \" + str(epoch) + \",Testing Accuracy \" + str(acc))"
   ]
  },
  {
   "cell_type": "code",
   "execution_count": 3,
   "metadata": {
    "ExecuteTime": {
     "end_time": "2019-10-03T01:16:39.316110Z",
     "start_time": "2019-10-03T01:16:38.994330Z"
    }
   },
   "outputs": [
    {
     "name": "stdout",
     "output_type": "stream",
     "text": [
      "Iter 0,Testing Accuracy 0.3136\n"
     ]
    }
   ],
   "source": [
    "with tf.Session() as sess:\n",
    "    sess.run(init)\n",
    "    writer = tf.summary.FileWriter('logs/',sess.graph)\n",
    "\n",
    "    for batch in range(3001):\n",
    "        batch_xs,batch_ys =  mnist.train.next_batch(batch_size)\n",
    "        summary,_ = sess.run([merged,train_step],feed_dict={x:batch_xs,y:batch_ys})\n",
    "            \n",
    "        writer.add_summary(summary,batch)\n",
    "        if batch % 1000==0:\n",
    "            acc = sess.run(accuracy,feed_dict={x:mnist.test.images,y:mnist.test.labels})\n",
    "            print(\"Iter \" + str(batch) + \",Testing Accuracy \" + str(acc))"
   ]
  },
  {
   "cell_type": "code",
   "execution_count": null,
   "metadata": {},
   "outputs": [],
   "source": []
  }
 ],
 "metadata": {
  "anaconda-cloud": {},
  "kernelspec": {
   "display_name": "Python [conda env:tf1.8] *",
   "language": "python",
   "name": "conda-env-tf1.8-py"
  },
  "language_info": {
   "codemirror_mode": {
    "name": "ipython",
    "version": 3
   },
   "file_extension": ".py",
   "mimetype": "text/x-python",
   "name": "python",
   "nbconvert_exporter": "python",
   "pygments_lexer": "ipython3",
   "version": "3.6.9"
  },
  "toc": {
   "base_numbering": 1,
   "nav_menu": {},
   "number_sections": true,
   "sideBar": true,
   "skip_h1_title": false,
   "title_cell": "Table of Contents",
   "title_sidebar": "Contents",
   "toc_cell": false,
   "toc_position": {},
   "toc_section_display": true,
   "toc_window_display": false
  }
 },
 "nbformat": 4,
 "nbformat_minor": 1
}
